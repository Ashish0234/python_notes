{
 "cells": [
  {
   "cell_type": "code",
   "execution_count": 1,
   "id": "5fb5a349",
   "metadata": {},
   "outputs": [],
   "source": [
    "class cars:\n",
    "    attr1=\"bmw\"\n",
    "    attr2=\"series1\"\n",
    "    def fun(self):\n",
    "        print(\"I'm from\",self.attr1)\n",
    "        print(\"my model is\",self.attr2)\n",
    "    "
   ]
  },
  {
   "cell_type": "code",
   "execution_count": 2,
   "id": "5f0ee97f",
   "metadata": {},
   "outputs": [],
   "source": [
    "john=cars()"
   ]
  },
  {
   "cell_type": "code",
   "execution_count": 3,
   "id": "2d003836",
   "metadata": {},
   "outputs": [
    {
     "name": "stdout",
     "output_type": "stream",
     "text": [
      "bmw\n"
     ]
    }
   ],
   "source": [
    " print(john.attr1)"
   ]
  },
  {
   "cell_type": "code",
   "execution_count": 4,
   "id": "58ba4e5d",
   "metadata": {},
   "outputs": [
    {
     "name": "stdout",
     "output_type": "stream",
     "text": [
      "I'm from bmw\n",
      "my model is series1\n"
     ]
    }
   ],
   "source": [
    "john.fun()"
   ]
  },
  {
   "cell_type": "code",
   "execution_count": 5,
   "id": "c4887e14",
   "metadata": {},
   "outputs": [],
   "source": [
    "class person:\n",
    "    #init method or constructor\n",
    "    \n",
    "    def __init__(self,name):\n",
    "        self.name=name\n",
    "    #sample method\n",
    "    def say_hi(self):\n",
    "        print(\"hello,my name is\",self.name)"
   ]
  },
  {
   "cell_type": "code",
   "execution_count": 6,
   "id": "c8189b20",
   "metadata": {},
   "outputs": [],
   "source": [
    "p= person('vignesh')\n"
   ]
  },
  {
   "cell_type": "code",
   "execution_count": 7,
   "id": "2626ca78",
   "metadata": {},
   "outputs": [
    {
     "name": "stdout",
     "output_type": "stream",
     "text": [
      "hello,my name is vignesh\n"
     ]
    }
   ],
   "source": [
    "p.say_hi()"
   ]
  },
  {
   "cell_type": "code",
   "execution_count": 8,
   "id": "a8217b0d",
   "metadata": {},
   "outputs": [],
   "source": [
    "class cars:\n",
    "    #class variable\n",
    "    fourwheeler='cars'\n",
    "    #the init method or constructor\n",
    "    def __init__(self,brand,color):\n",
    "        #instance variable\n",
    "        self.brand=brand\n",
    "        self.color=color\n",
    "    def fun(self):\n",
    "        print(\"hello\",self.brand)\n",
    "        print(\"and color is\",self.color)\n",
    "    #objects of cars class\n",
    "    "
   ]
  },
  {
   "cell_type": "code",
   "execution_count": 9,
   "id": "58774a4e",
   "metadata": {},
   "outputs": [],
   "source": [
    "tata=cars(\"nexon\",\"brown\")"
   ]
  },
  {
   "cell_type": "code",
   "execution_count": 10,
   "id": "39556e28",
   "metadata": {},
   "outputs": [],
   "source": [
    "mustang=cars(\"ford\",\"orange\")"
   ]
  },
  {
   "cell_type": "code",
   "execution_count": 11,
   "id": "54482ad6",
   "metadata": {},
   "outputs": [
    {
     "name": "stdout",
     "output_type": "stream",
     "text": [
      "hello nexon\n",
      "and color is brown\n"
     ]
    }
   ],
   "source": [
    "tata.fun()"
   ]
  },
  {
   "cell_type": "code",
   "execution_count": 12,
   "id": "05f30c1c",
   "metadata": {},
   "outputs": [],
   "source": [
    "tata.color=\"red\""
   ]
  },
  {
   "cell_type": "code",
   "execution_count": 13,
   "id": "213a8951",
   "metadata": {},
   "outputs": [
    {
     "name": "stdout",
     "output_type": "stream",
     "text": [
      "hello nexon\n",
      "and color is red\n"
     ]
    }
   ],
   "source": [
    "tata.fun()"
   ]
  },
  {
   "cell_type": "code",
   "execution_count": 14,
   "id": "dd25b9c1",
   "metadata": {},
   "outputs": [],
   "source": [
    "del tata.color"
   ]
  },
  {
   "cell_type": "code",
   "execution_count": 15,
   "id": "dd5e36a4",
   "metadata": {},
   "outputs": [],
   "source": [
    "del tata"
   ]
  },
  {
   "cell_type": "code",
   "execution_count": 16,
   "id": "c9b65510",
   "metadata": {},
   "outputs": [],
   "source": [
    "class myclass:\n",
    "    #defult constructor\n",
    "    def __init__(self):\n",
    "        self.hello=\"hello\"\n",
    "    #a method for printing data members\n",
    "    def print_hello(self):\n",
    "        print(self.hello)"
   ]
  },
  {
   "cell_type": "code",
   "execution_count": 17,
   "id": "86206b33",
   "metadata": {},
   "outputs": [],
   "source": [
    "#creating object of the class\n",
    "obj=myclass()\n",
    "#calling the instance method using the object obj\n"
   ]
  },
  {
   "cell_type": "code",
   "execution_count": 18,
   "id": "188e2334",
   "metadata": {},
   "outputs": [
    {
     "name": "stdout",
     "output_type": "stream",
     "text": [
      "hello\n"
     ]
    }
   ],
   "source": [
    "obj.print_hello()"
   ]
  },
  {
   "cell_type": "code",
   "execution_count": 19,
   "id": "2518c87b",
   "metadata": {},
   "outputs": [],
   "source": [
    "class myclass:\n",
    "    first=0\n",
    "    second=0\n",
    "    answer=0\n",
    "    #parameterized constructor\n",
    "    def __init__(self,f,s):\n",
    "        self.first=f\n",
    "        self.second=s\n",
    "    def display(self):\n",
    "        print(\"first number=\"+str(self.first))\n",
    "        print(\"second number=\"+str(self.second))\n",
    "        print(\"addition of two numbers=\"+str(self.answer))\n",
    "    def calculate(self):\n",
    "        self.answer=self.first+self.second"
   ]
  },
  {
   "cell_type": "code",
   "execution_count": 20,
   "id": "cdfc6ea2",
   "metadata": {},
   "outputs": [],
   "source": [
    "#creating object of the class, this will invoke parameterized constructor\n",
    "obj=myclass(2000,2000)\n",
    "#perform addition"
   ]
  },
  {
   "cell_type": "code",
   "execution_count": 21,
   "id": "7cb6811a",
   "metadata": {},
   "outputs": [],
   "source": [
    "obj.calculate()"
   ]
  },
  {
   "cell_type": "code",
   "execution_count": 22,
   "id": "b9f4a38d",
   "metadata": {},
   "outputs": [
    {
     "name": "stdout",
     "output_type": "stream",
     "text": [
      "first number=2000\n",
      "second number=2000\n",
      "addition of two numbers=4000\n"
     ]
    }
   ],
   "source": [
    "#display result\n",
    "obj.display()"
   ]
  },
  {
   "cell_type": "code",
   "execution_count": 23,
   "id": "70e1126d",
   "metadata": {},
   "outputs": [],
   "source": [
    "class employee:\n",
    "   def __init__(self):\n",
    "        print('employee created.')\n",
    "   def __del__(self):\n",
    "        print('destructor called, employee deleted.')"
   ]
  },
  {
   "cell_type": "code",
   "execution_count": 24,
   "id": "ca76fccc",
   "metadata": {},
   "outputs": [
    {
     "name": "stdout",
     "output_type": "stream",
     "text": [
      "employee created.\n",
      "destructor called, employee deleted.\n"
     ]
    }
   ],
   "source": [
    "obj=employee()\n",
    "del obj"
   ]
  },
  {
   "cell_type": "code",
   "execution_count": 25,
   "id": "7677a464",
   "metadata": {},
   "outputs": [],
   "source": [
    "class employee:\n",
    "    def __init__(self):\n",
    "        print('employee created')\n",
    "    def __del__(self):\n",
    "        print(\"destructor called\")\n",
    "def create_obj():\n",
    "    print('making object...')\n",
    "    obj=employee()\n",
    "    print('function end...')\n",
    "    return obj\n",
    "        \n",
    "        "
   ]
  },
  {
   "cell_type": "code",
   "execution_count": 26,
   "id": "ca999144",
   "metadata": {},
   "outputs": [
    {
     "name": "stdout",
     "output_type": "stream",
     "text": [
      "calling  create_obj()function...\n"
     ]
    }
   ],
   "source": [
    "print('calling  create_obj()function...')\n"
   ]
  },
  {
   "cell_type": "code",
   "execution_count": 27,
   "id": "e0b1b3fa",
   "metadata": {},
   "outputs": [
    {
     "name": "stdout",
     "output_type": "stream",
     "text": [
      "making object...\n",
      "employee created\n",
      "function end...\n",
      "program end...\n"
     ]
    }
   ],
   "source": [
    "obj=create_obj()\n",
    "print('program end...')\n"
   ]
  },
  {
   "cell_type": "code",
   "execution_count": 28,
   "id": "e2be6d4f",
   "metadata": {},
   "outputs": [],
   "source": [
    "mytuple=(\"apple\",\"banana\",\"cherry\")"
   ]
  },
  {
   "cell_type": "code",
   "execution_count": 29,
   "id": "e72eea9d",
   "metadata": {},
   "outputs": [],
   "source": [
    "myit=iter(mytuple)"
   ]
  },
  {
   "cell_type": "code",
   "execution_count": 30,
   "id": "e6e5cd48",
   "metadata": {},
   "outputs": [
    {
     "name": "stdout",
     "output_type": "stream",
     "text": [
      "apple\n"
     ]
    }
   ],
   "source": [
    "print(next(myit))"
   ]
  },
  {
   "cell_type": "code",
   "execution_count": 31,
   "id": "4ecc6018",
   "metadata": {},
   "outputs": [
    {
     "name": "stdout",
     "output_type": "stream",
     "text": [
      "banana\n"
     ]
    }
   ],
   "source": [
    "print(next(myit))"
   ]
  },
  {
   "cell_type": "code",
   "execution_count": 32,
   "id": "b274756a",
   "metadata": {},
   "outputs": [
    {
     "name": "stdout",
     "output_type": "stream",
     "text": [
      "cherry\n"
     ]
    }
   ],
   "source": [
    "print(next(myit))"
   ]
  },
  {
   "cell_type": "code",
   "execution_count": 33,
   "id": "0bb29b2e",
   "metadata": {},
   "outputs": [],
   "source": [
    "mystr=\"banana\""
   ]
  },
  {
   "cell_type": "code",
   "execution_count": 34,
   "id": "dfc523c6",
   "metadata": {},
   "outputs": [],
   "source": [
    "myit=iter(mystr)"
   ]
  },
  {
   "cell_type": "code",
   "execution_count": 35,
   "id": "8b208369",
   "metadata": {},
   "outputs": [
    {
     "name": "stdout",
     "output_type": "stream",
     "text": [
      "b\n"
     ]
    }
   ],
   "source": [
    "print(next(myit))"
   ]
  },
  {
   "cell_type": "code",
   "execution_count": 36,
   "id": "110ada00",
   "metadata": {},
   "outputs": [
    {
     "name": "stdout",
     "output_type": "stream",
     "text": [
      "a\n"
     ]
    }
   ],
   "source": [
    "print(next(myit))"
   ]
  },
  {
   "cell_type": "code",
   "execution_count": 37,
   "id": "a5b23612",
   "metadata": {},
   "outputs": [
    {
     "name": "stdout",
     "output_type": "stream",
     "text": [
      "n\n"
     ]
    }
   ],
   "source": [
    "print(next(myit))"
   ]
  },
  {
   "cell_type": "code",
   "execution_count": 38,
   "id": "8b8f8772",
   "metadata": {},
   "outputs": [
    {
     "name": "stdout",
     "output_type": "stream",
     "text": [
      "a\n"
     ]
    }
   ],
   "source": [
    "print(next(myit))"
   ]
  },
  {
   "cell_type": "code",
   "execution_count": 39,
   "id": "35176e1c",
   "metadata": {},
   "outputs": [
    {
     "name": "stdout",
     "output_type": "stream",
     "text": [
      "n\n"
     ]
    }
   ],
   "source": [
    "print(next(myit))"
   ]
  },
  {
   "cell_type": "code",
   "execution_count": 40,
   "id": "92a8044e",
   "metadata": {},
   "outputs": [
    {
     "name": "stdout",
     "output_type": "stream",
     "text": [
      "a\n"
     ]
    }
   ],
   "source": [
    "print(next(myit))"
   ]
  },
  {
   "cell_type": "code",
   "execution_count": 41,
   "id": "35059551",
   "metadata": {},
   "outputs": [],
   "source": [
    "mytuple=(\"apple\",\"banana\",\"cherry\")\n",
    " "
   ]
  },
  {
   "cell_type": "code",
   "execution_count": 42,
   "id": "2561aecb",
   "metadata": {},
   "outputs": [
    {
     "name": "stdout",
     "output_type": "stream",
     "text": [
      "apple\n",
      "banana\n",
      "cherry\n"
     ]
    }
   ],
   "source": [
    "for x in mytuple:\n",
    "    print(x)"
   ]
  },
  {
   "cell_type": "code",
   "execution_count": 43,
   "id": "c54f2293",
   "metadata": {},
   "outputs": [],
   "source": [
    "class mynumbers:\n",
    "    def __iter__(self):\n",
    "        self.a=1\n",
    "        return self\n",
    "    def __next__(self):\n",
    "        x=self.a\n",
    "        self.a+=1\n",
    "        return x"
   ]
  },
  {
   "cell_type": "code",
   "execution_count": 44,
   "id": "8c4f2315",
   "metadata": {},
   "outputs": [],
   "source": [
    "myclass=mynumbers()"
   ]
  },
  {
   "cell_type": "code",
   "execution_count": 45,
   "id": "14f94f40",
   "metadata": {},
   "outputs": [],
   "source": [
    "myiter=iter(myclass)"
   ]
  },
  {
   "cell_type": "code",
   "execution_count": 46,
   "id": "f15f8a98",
   "metadata": {},
   "outputs": [
    {
     "name": "stdout",
     "output_type": "stream",
     "text": [
      "1\n"
     ]
    }
   ],
   "source": [
    "print(next(myiter))"
   ]
  },
  {
   "cell_type": "code",
   "execution_count": 47,
   "id": "fd5a7dff",
   "metadata": {},
   "outputs": [
    {
     "name": "stdout",
     "output_type": "stream",
     "text": [
      "2\n"
     ]
    }
   ],
   "source": [
    "print(next(myiter))"
   ]
  },
  {
   "cell_type": "code",
   "execution_count": 48,
   "id": "5dfa2f22",
   "metadata": {},
   "outputs": [
    {
     "name": "stdout",
     "output_type": "stream",
     "text": [
      "3\n"
     ]
    }
   ],
   "source": [
    "print(next(myiter))"
   ]
  },
  {
   "cell_type": "code",
   "execution_count": 49,
   "id": "8378bb68",
   "metadata": {},
   "outputs": [
    {
     "name": "stdout",
     "output_type": "stream",
     "text": [
      "4\n"
     ]
    }
   ],
   "source": [
    "print(next(myiter))"
   ]
  },
  {
   "cell_type": "code",
   "execution_count": 50,
   "id": "d385ed02",
   "metadata": {},
   "outputs": [
    {
     "name": "stdout",
     "output_type": "stream",
     "text": [
      "5\n"
     ]
    }
   ],
   "source": [
    "print(next(myiter))"
   ]
  },
  {
   "cell_type": "code",
   "execution_count": 51,
   "id": "29ba463d",
   "metadata": {},
   "outputs": [],
   "source": [
    "def greeting():\n",
    "    print('hi!')\n",
    "    yield 1\n",
    "    print('how are you?')\n",
    "    yield 2\n",
    "    print('are you there?')\n",
    "    yield 3"
   ]
  },
  {
   "cell_type": "code",
   "execution_count": 52,
   "id": "e93f4b51",
   "metadata": {},
   "outputs": [],
   "source": [
    "messenger=greeting()"
   ]
  },
  {
   "cell_type": "code",
   "execution_count": 53,
   "id": "1c88059a",
   "metadata": {},
   "outputs": [
    {
     "name": "stdout",
     "output_type": "stream",
     "text": [
      "hi!\n"
     ]
    }
   ],
   "source": [
    "result=next(messenger)"
   ]
  },
  {
   "cell_type": "code",
   "execution_count": 54,
   "id": "ea4be18d",
   "metadata": {},
   "outputs": [
    {
     "name": "stdout",
     "output_type": "stream",
     "text": [
      "1\n"
     ]
    }
   ],
   "source": [
    "print(result)"
   ]
  },
  {
   "cell_type": "code",
   "execution_count": 55,
   "id": "fd087c53",
   "metadata": {},
   "outputs": [
    {
     "name": "stdout",
     "output_type": "stream",
     "text": [
      "My name is Ashish Kumar\n",
      "\n",
      "I am 24 year old\n",
      "\n",
      "I have completed my schooling from KENDRIYA VIDYALAYA CRPF DGR\n",
      "\n",
      "Then after I went to BHU for pursuing bachelors degree\n",
      "\n",
      "I like to play basketball\n"
     ]
    }
   ],
   "source": [
    "file=open('19feb.txt','r')\n",
    "for line in file:\n",
    "    print(line)"
   ]
  },
  {
   "cell_type": "code",
   "execution_count": 58,
   "id": "ebdddd08",
   "metadata": {},
   "outputs": [
    {
     "name": "stdout",
     "output_type": "stream",
     "text": [
      "My name is Ashish Kumar\n",
      "I am 24 year old\n",
      "I have completed my schooling from KENDRIYA VIDYALAYA CRPF DGR\n",
      "Then after I went to BHU for pursuing bachelors degree\n",
      "I like to play basketball\n"
     ]
    }
   ],
   "source": [
    "file=open(\"19feb.txt\",\"r\")\n",
    "print(file.read())"
   ]
  },
  {
   "cell_type": "code",
   "execution_count": 69,
   "id": "dfb3924c",
   "metadata": {},
   "outputs": [
    {
     "name": "stdout",
     "output_type": "stream",
     "text": [
      "My name is Ashish Kumar\n",
      "I am 24 year old\n",
      "I have co\n"
     ]
    }
   ],
   "source": [
    "file=open(\"19feb.txt\",\"r\")\n",
    "print(file.read(50))"
   ]
  },
  {
   "cell_type": "code",
   "execution_count": null,
   "id": "ef95c1d5",
   "metadata": {},
   "outputs": [],
   "source": []
  }
 ],
 "metadata": {
  "kernelspec": {
   "display_name": "Python 3 (ipykernel)",
   "language": "python",
   "name": "python3"
  },
  "language_info": {
   "codemirror_mode": {
    "name": "ipython",
    "version": 3
   },
   "file_extension": ".py",
   "mimetype": "text/x-python",
   "name": "python",
   "nbconvert_exporter": "python",
   "pygments_lexer": "ipython3",
   "version": "3.11.5"
  }
 },
 "nbformat": 4,
 "nbformat_minor": 5
}
