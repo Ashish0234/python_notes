{
 "cells": [
  {
   "cell_type": "code",
   "execution_count": 1,
   "id": "5cda1c3d",
   "metadata": {},
   "outputs": [],
   "source": [
    "x=\"hello python\""
   ]
  },
  {
   "cell_type": "code",
   "execution_count": 2,
   "id": "8803b9d2",
   "metadata": {},
   "outputs": [
    {
     "name": "stdout",
     "output_type": "stream",
     "text": [
      "hello python\n"
     ]
    }
   ],
   "source": [
    "print(x)"
   ]
  },
  {
   "cell_type": "code",
   "execution_count": 3,
   "id": "ee018bfc",
   "metadata": {},
   "outputs": [
    {
     "data": {
      "text/plain": [
       "str"
      ]
     },
     "execution_count": 3,
     "metadata": {},
     "output_type": "execute_result"
    }
   ],
   "source": [
    "type(x)"
   ]
  },
  {
   "cell_type": "code",
   "execution_count": 4,
   "id": "cf8c6205",
   "metadata": {},
   "outputs": [],
   "source": [
    "y=123"
   ]
  },
  {
   "cell_type": "code",
   "execution_count": 5,
   "id": "a35a6ff6",
   "metadata": {},
   "outputs": [
    {
     "ename": "NameError",
     "evalue": "name 'prrint' is not defined",
     "output_type": "error",
     "traceback": [
      "\u001b[1;31m---------------------------------------------------------------------------\u001b[0m",
      "\u001b[1;31mNameError\u001b[0m                                 Traceback (most recent call last)",
      "Cell \u001b[1;32mIn[5], line 1\u001b[0m\n\u001b[1;32m----> 1\u001b[0m prrint(\u001b[38;5;28mtype\u001b[39m(y))\n",
      "\u001b[1;31mNameError\u001b[0m: name 'prrint' is not defined"
     ]
    }
   ],
   "source": [
    "prrint(type(y))"
   ]
  },
  {
   "cell_type": "code",
   "execution_count": 6,
   "id": "fd0d89a9",
   "metadata": {},
   "outputs": [
    {
     "name": "stdout",
     "output_type": "stream",
     "text": [
      "<class 'int'>\n"
     ]
    }
   ],
   "source": [
    "print(type(y))"
   ]
  },
  {
   "cell_type": "code",
   "execution_count": 7,
   "id": "d03266cc",
   "metadata": {},
   "outputs": [],
   "source": [
    "z=1.23"
   ]
  },
  {
   "cell_type": "code",
   "execution_count": 8,
   "id": "604be2c2",
   "metadata": {},
   "outputs": [
    {
     "name": "stdout",
     "output_type": "stream",
     "text": [
      "<class 'float'>\n"
     ]
    }
   ],
   "source": [
    "print(type(z))"
   ]
  },
  {
   "cell_type": "code",
   "execution_count": 9,
   "id": "1204af39",
   "metadata": {},
   "outputs": [
    {
     "ename": "NameError",
     "evalue": "name 'true' is not defined",
     "output_type": "error",
     "traceback": [
      "\u001b[1;31m---------------------------------------------------------------------------\u001b[0m",
      "\u001b[1;31mNameError\u001b[0m                                 Traceback (most recent call last)",
      "Cell \u001b[1;32mIn[9], line 1\u001b[0m\n\u001b[1;32m----> 1\u001b[0m a\u001b[38;5;241m=\u001b[39mtrue\n",
      "\u001b[1;31mNameError\u001b[0m: name 'true' is not defined"
     ]
    }
   ],
   "source": [
    "a=true"
   ]
  },
  {
   "cell_type": "code",
   "execution_count": 10,
   "id": "96914376",
   "metadata": {},
   "outputs": [],
   "source": [
    "a=True"
   ]
  },
  {
   "cell_type": "code",
   "execution_count": 11,
   "id": "80fb9775",
   "metadata": {},
   "outputs": [
    {
     "name": "stdout",
     "output_type": "stream",
     "text": [
      "<class 'bool'>\n"
     ]
    }
   ],
   "source": [
    "print(type(a))"
   ]
  },
  {
   "cell_type": "code",
   "execution_count": 12,
   "id": "c2c4c07d",
   "metadata": {},
   "outputs": [],
   "source": [
    "b=\"1234\""
   ]
  },
  {
   "cell_type": "code",
   "execution_count": 13,
   "id": "df3601f4",
   "metadata": {},
   "outputs": [
    {
     "name": "stdout",
     "output_type": "stream",
     "text": [
      "<class 'str'>\n"
     ]
    }
   ],
   "source": [
    "print(type(b))"
   ]
  },
  {
   "cell_type": "code",
   "execution_count": 14,
   "id": "5bf09bfe",
   "metadata": {},
   "outputs": [
    {
     "name": "stdout",
     "output_type": "stream",
     "text": [
      "hello python 123 1.23 True 1234\n"
     ]
    }
   ],
   "source": [
    "print(x,y,z,a,b)"
   ]
  },
  {
   "cell_type": "code",
   "execution_count": 15,
   "id": "94ff90de",
   "metadata": {},
   "outputs": [],
   "source": [
    "b=int(b)"
   ]
  },
  {
   "cell_type": "code",
   "execution_count": 16,
   "id": "5b74e9cd",
   "metadata": {},
   "outputs": [
    {
     "data": {
      "text/plain": [
       "int"
      ]
     },
     "execution_count": 16,
     "metadata": {},
     "output_type": "execute_result"
    }
   ],
   "source": [
    "type(b)"
   ]
  },
  {
   "cell_type": "code",
   "execution_count": 17,
   "id": "20fa8188",
   "metadata": {},
   "outputs": [
    {
     "name": "stdout",
     "output_type": "stream",
     "text": [
      "1234\n"
     ]
    }
   ],
   "source": [
    "print(b)"
   ]
  },
  {
   "cell_type": "code",
   "execution_count": 18,
   "id": "33e3d115",
   "metadata": {},
   "outputs": [],
   "source": [
    "x=\"hello\""
   ]
  },
  {
   "cell_type": "code",
   "execution_count": 19,
   "id": "57354558",
   "metadata": {},
   "outputs": [],
   "source": [
    "y=\"python\""
   ]
  },
  {
   "cell_type": "code",
   "execution_count": 20,
   "id": "94a7c632",
   "metadata": {},
   "outputs": [],
   "source": [
    "var=x+y"
   ]
  },
  {
   "cell_type": "code",
   "execution_count": 21,
   "id": "2f955956",
   "metadata": {},
   "outputs": [
    {
     "name": "stdout",
     "output_type": "stream",
     "text": [
      "hellopython\n"
     ]
    }
   ],
   "source": [
    "print(var)"
   ]
  },
  {
   "cell_type": "code",
   "execution_count": 22,
   "id": "325a875c",
   "metadata": {},
   "outputs": [
    {
     "name": "stdout",
     "output_type": "stream",
     "text": [
      "<class 'str'>\n"
     ]
    }
   ],
   "source": [
    "print(type(var))"
   ]
  },
  {
   "cell_type": "code",
   "execution_count": 23,
   "id": "b3c57c2a",
   "metadata": {},
   "outputs": [
    {
     "data": {
      "text/plain": [
       "'my age is'"
      ]
     },
     "execution_count": 23,
     "metadata": {},
     "output_type": "execute_result"
    }
   ],
   "source": [
    "\"my age is\""
   ]
  },
  {
   "cell_type": "code",
   "execution_count": 1,
   "id": "f9e5d3bd",
   "metadata": {},
   "outputs": [],
   "source": [
    "x='my age is'"
   ]
  },
  {
   "cell_type": "code",
   "execution_count": 2,
   "id": "45729ea5",
   "metadata": {},
   "outputs": [],
   "source": [
    "y=21"
   ]
  },
  {
   "cell_type": "code",
   "execution_count": 3,
   "id": "28146c99",
   "metadata": {},
   "outputs": [
    {
     "ename": "TypeError",
     "evalue": "can only concatenate str (not \"int\") to str",
     "output_type": "error",
     "traceback": [
      "\u001b[1;31m---------------------------------------------------------------------------\u001b[0m",
      "\u001b[1;31mTypeError\u001b[0m                                 Traceback (most recent call last)",
      "Cell \u001b[1;32mIn[3], line 1\u001b[0m\n\u001b[1;32m----> 1\u001b[0m z\u001b[38;5;241m=\u001b[39mx\u001b[38;5;241m+\u001b[39my\n",
      "\u001b[1;31mTypeError\u001b[0m: can only concatenate str (not \"int\") to str"
     ]
    }
   ],
   "source": [
    "z=x+y"
   ]
  },
  {
   "cell_type": "code",
   "execution_count": 4,
   "id": "f1954cd1",
   "metadata": {},
   "outputs": [],
   "source": [
    "z=x+str(y)"
   ]
  },
  {
   "cell_type": "code",
   "execution_count": 28,
   "id": "b90937be",
   "metadata": {},
   "outputs": [],
   "source": [
    "print=z"
   ]
  },
  {
   "cell_type": "code",
   "execution_count": 5,
   "id": "199fb5c8",
   "metadata": {},
   "outputs": [
    {
     "name": "stdout",
     "output_type": "stream",
     "text": [
      "my age is21\n"
     ]
    }
   ],
   "source": [
    "print(z)"
   ]
  },
  {
   "cell_type": "code",
   "execution_count": 6,
   "id": "7ebe11f2",
   "metadata": {},
   "outputs": [
    {
     "name": "stdout",
     "output_type": "stream",
     "text": [
      "enter your age24\n"
     ]
    }
   ],
   "source": [
    "x=input(\"enter your age\")"
   ]
  },
  {
   "cell_type": "code",
   "execution_count": 7,
   "id": "f47cf5d6",
   "metadata": {},
   "outputs": [],
   "source": [
    "y=\"my age is\""
   ]
  },
  {
   "cell_type": "code",
   "execution_count": 8,
   "id": "2a68ee18",
   "metadata": {},
   "outputs": [],
   "source": [
    "z=y+x"
   ]
  },
  {
   "cell_type": "code",
   "execution_count": 9,
   "id": "c4ab974b",
   "metadata": {},
   "outputs": [
    {
     "name": "stdout",
     "output_type": "stream",
     "text": [
      "my age is24\n"
     ]
    }
   ],
   "source": [
    "print(z)"
   ]
  },
  {
   "cell_type": "code",
   "execution_count": 10,
   "id": "91566004",
   "metadata": {},
   "outputs": [
    {
     "data": {
      "text/plain": [
       "str"
      ]
     },
     "execution_count": 10,
     "metadata": {},
     "output_type": "execute_result"
    }
   ],
   "source": [
    "type(x)"
   ]
  },
  {
   "cell_type": "code",
   "execution_count": 11,
   "id": "cba88026",
   "metadata": {},
   "outputs": [
    {
     "name": "stdout",
     "output_type": "stream",
     "text": [
      "enter a number24\n"
     ]
    }
   ],
   "source": [
    "x=input(\"enter a number\")"
   ]
  },
  {
   "cell_type": "code",
   "execution_count": 12,
   "id": "abbdc404",
   "metadata": {},
   "outputs": [
    {
     "name": "stdout",
     "output_type": "stream",
     "text": [
      "enter another number21\n"
     ]
    }
   ],
   "source": [
    "y=input(\"enter another number\")"
   ]
  },
  {
   "cell_type": "code",
   "execution_count": 13,
   "id": "da71f998",
   "metadata": {},
   "outputs": [],
   "source": [
    "z=x+y"
   ]
  },
  {
   "cell_type": "code",
   "execution_count": 14,
   "id": "90128a88",
   "metadata": {},
   "outputs": [
    {
     "name": "stdout",
     "output_type": "stream",
     "text": [
      "2421\n"
     ]
    }
   ],
   "source": [
    "print(z)"
   ]
  },
  {
   "cell_type": "code",
   "execution_count": 15,
   "id": "62fcf93f",
   "metadata": {},
   "outputs": [
    {
     "data": {
      "text/plain": [
       "str"
      ]
     },
     "execution_count": 15,
     "metadata": {},
     "output_type": "execute_result"
    }
   ],
   "source": [
    "type(x)"
   ]
  },
  {
   "cell_type": "code",
   "execution_count": 16,
   "id": "5dd9ea54",
   "metadata": {},
   "outputs": [],
   "source": [
    "x=int(x)"
   ]
  },
  {
   "cell_type": "code",
   "execution_count": 18,
   "id": "1a89ed46",
   "metadata": {},
   "outputs": [],
   "source": [
    "y=int(y)"
   ]
  },
  {
   "cell_type": "code",
   "execution_count": 19,
   "id": "6706c884",
   "metadata": {},
   "outputs": [],
   "source": [
    "z=x+y"
   ]
  },
  {
   "cell_type": "code",
   "execution_count": 20,
   "id": "e0733815",
   "metadata": {},
   "outputs": [
    {
     "name": "stdout",
     "output_type": "stream",
     "text": [
      "42\n"
     ]
    }
   ],
   "source": [
    "print(z)"
   ]
  },
  {
   "cell_type": "code",
   "execution_count": 21,
   "id": "1a50c316",
   "metadata": {},
   "outputs": [
    {
     "data": {
      "text/plain": [
       "int"
      ]
     },
     "execution_count": 21,
     "metadata": {},
     "output_type": "execute_result"
    }
   ],
   "source": [
    "type(x)"
   ]
  },
  {
   "cell_type": "code",
   "execution_count": 22,
   "id": "5ae27448",
   "metadata": {},
   "outputs": [
    {
     "name": "stdout",
     "output_type": "stream",
     "text": [
      "enter a number40\n"
     ]
    }
   ],
   "source": [
    "x=input(\"enter a number\")"
   ]
  },
  {
   "cell_type": "code",
   "execution_count": 23,
   "id": "1bd1deb2",
   "metadata": {},
   "outputs": [
    {
     "name": "stdout",
     "output_type": "stream",
     "text": [
      "enter another number\n"
     ]
    }
   ],
   "source": [
    "y=input(\"enter another number\")"
   ]
  },
  {
   "cell_type": "code",
   "execution_count": 24,
   "id": "38f1970c",
   "metadata": {},
   "outputs": [
    {
     "name": "stdout",
     "output_type": "stream",
     "text": [
      "enter another number24\n"
     ]
    }
   ],
   "source": [
    "y=input(\"enter another number\")"
   ]
  },
  {
   "cell_type": "code",
   "execution_count": 25,
   "id": "c4976751",
   "metadata": {},
   "outputs": [],
   "source": [
    "z=x+y"
   ]
  },
  {
   "cell_type": "code",
   "execution_count": 26,
   "id": "5ae8e707",
   "metadata": {},
   "outputs": [
    {
     "name": "stdout",
     "output_type": "stream",
     "text": [
      "4024\n"
     ]
    }
   ],
   "source": [
    "print(z)"
   ]
  },
  {
   "cell_type": "code",
   "execution_count": 27,
   "id": "6efcb398",
   "metadata": {},
   "outputs": [],
   "source": [
    "x=int(x)"
   ]
  },
  {
   "cell_type": "code",
   "execution_count": 28,
   "id": "3ce46a29",
   "metadata": {},
   "outputs": [],
   "source": [
    "y=int(y)"
   ]
  },
  {
   "cell_type": "code",
   "execution_count": 29,
   "id": "cb70c72a",
   "metadata": {},
   "outputs": [],
   "source": [
    "z=x+y"
   ]
  },
  {
   "cell_type": "code",
   "execution_count": 30,
   "id": "43a2b980",
   "metadata": {},
   "outputs": [
    {
     "name": "stdout",
     "output_type": "stream",
     "text": [
      "64\n"
     ]
    }
   ],
   "source": [
    "print(z)"
   ]
  },
  {
   "cell_type": "code",
   "execution_count": 31,
   "id": "9314c814",
   "metadata": {},
   "outputs": [
    {
     "data": {
      "text/plain": [
       "int"
      ]
     },
     "execution_count": 31,
     "metadata": {},
     "output_type": "execute_result"
    }
   ],
   "source": [
    "type(x)"
   ]
  },
  {
   "cell_type": "code",
   "execution_count": 32,
   "id": "51c09a61",
   "metadata": {},
   "outputs": [
    {
     "name": "stdout",
     "output_type": "stream",
     "text": [
      "enter a number11\n"
     ]
    }
   ],
   "source": [
    "x=input(\"enter a number\")"
   ]
  },
  {
   "cell_type": "code",
   "execution_count": 33,
   "id": "133abcd6",
   "metadata": {},
   "outputs": [
    {
     "name": "stdout",
     "output_type": "stream",
     "text": [
      "enter another number12\n"
     ]
    }
   ],
   "source": [
    "y=input(\"enter another number\")"
   ]
  },
  {
   "cell_type": "code",
   "execution_count": 35,
   "id": "e81a7998",
   "metadata": {},
   "outputs": [],
   "source": [
    "x=int(x)"
   ]
  },
  {
   "cell_type": "code",
   "execution_count": 36,
   "id": "28024dfc",
   "metadata": {},
   "outputs": [],
   "source": [
    "y=int(y)"
   ]
  },
  {
   "cell_type": "code",
   "execution_count": 39,
   "id": "1511e57e",
   "metadata": {},
   "outputs": [],
   "source": [
    "z=x*y"
   ]
  },
  {
   "cell_type": "code",
   "execution_count": 40,
   "id": "33f5b34d",
   "metadata": {},
   "outputs": [
    {
     "name": "stdout",
     "output_type": "stream",
     "text": [
      "132\n"
     ]
    }
   ],
   "source": [
    "print(z)"
   ]
  },
  {
   "cell_type": "code",
   "execution_count": 41,
   "id": "a83c2ada",
   "metadata": {},
   "outputs": [
    {
     "name": "stdout",
     "output_type": "stream",
     "text": [
      "enter a number12\n"
     ]
    }
   ],
   "source": [
    "x=input(\"enter a number\")"
   ]
  },
  {
   "cell_type": "code",
   "execution_count": 42,
   "id": "71dd3aa3",
   "metadata": {},
   "outputs": [
    {
     "name": "stdout",
     "output_type": "stream",
     "text": [
      "enter another number11\n"
     ]
    }
   ],
   "source": [
    "y=input(\"enter another number\")"
   ]
  },
  {
   "cell_type": "code",
   "execution_count": 43,
   "id": "ccae66f6",
   "metadata": {},
   "outputs": [],
   "source": [
    "x=int(x)"
   ]
  },
  {
   "cell_type": "code",
   "execution_count": 44,
   "id": "f467dcae",
   "metadata": {},
   "outputs": [],
   "source": [
    "y=int(y)"
   ]
  },
  {
   "cell_type": "code",
   "execution_count": 46,
   "id": "0d54944c",
   "metadata": {},
   "outputs": [],
   "source": [
    "z=x/y"
   ]
  },
  {
   "cell_type": "code",
   "execution_count": 47,
   "id": "56e5da4f",
   "metadata": {},
   "outputs": [
    {
     "name": "stdout",
     "output_type": "stream",
     "text": [
      "1.0909090909090908\n"
     ]
    }
   ],
   "source": [
    "print(z)"
   ]
  },
  {
   "cell_type": "code",
   "execution_count": 48,
   "id": "c57af8a2",
   "metadata": {},
   "outputs": [
    {
     "name": "stdout",
     "output_type": "stream",
     "text": [
      "enter a number12\n"
     ]
    }
   ],
   "source": [
    "x=input(\"enter a number\")"
   ]
  },
  {
   "cell_type": "code",
   "execution_count": 49,
   "id": "7b15ce68",
   "metadata": {},
   "outputs": [
    {
     "name": "stdout",
     "output_type": "stream",
     "text": [
      "enter another number 60\n"
     ]
    }
   ],
   "source": [
    "y=input(\"enter another number \")"
   ]
  },
  {
   "cell_type": "code",
   "execution_count": 50,
   "id": "c693ff17",
   "metadata": {},
   "outputs": [],
   "source": [
    "x=int(x)"
   ]
  },
  {
   "cell_type": "code",
   "execution_count": 51,
   "id": "e69a5645",
   "metadata": {},
   "outputs": [],
   "source": [
    "y=int(y)"
   ]
  },
  {
   "cell_type": "code",
   "execution_count": 52,
   "id": "7558a4ca",
   "metadata": {},
   "outputs": [],
   "source": [
    "z=x%y"
   ]
  },
  {
   "cell_type": "code",
   "execution_count": 53,
   "id": "7d167ea9",
   "metadata": {},
   "outputs": [
    {
     "name": "stdout",
     "output_type": "stream",
     "text": [
      "12\n"
     ]
    }
   ],
   "source": [
    "print(z)"
   ]
  },
  {
   "cell_type": "code",
   "execution_count": 54,
   "id": "9d01ca5c",
   "metadata": {},
   "outputs": [
    {
     "name": "stdout",
     "output_type": "stream",
     "text": [
      "a number22\n"
     ]
    }
   ],
   "source": [
    "x=int(input(\"a number\"))"
   ]
  },
  {
   "cell_type": "code",
   "execution_count": 55,
   "id": "c2385d27",
   "metadata": {},
   "outputs": [
    {
     "data": {
      "text/plain": [
       "int"
      ]
     },
     "execution_count": 55,
     "metadata": {},
     "output_type": "execute_result"
    }
   ],
   "source": [
    "type(x)"
   ]
  },
  {
   "cell_type": "code",
   "execution_count": 56,
   "id": "9990cf57",
   "metadata": {},
   "outputs": [
    {
     "ename": "SyntaxError",
     "evalue": "invalid syntax (3516970653.py, line 1)",
     "output_type": "error",
     "traceback": [
      "\u001b[1;36m  Cell \u001b[1;32mIn[56], line 1\u001b[1;36m\u001b[0m\n\u001b[1;33m    x=int\"abc\"\u001b[0m\n\u001b[1;37m         ^\u001b[0m\n\u001b[1;31mSyntaxError\u001b[0m\u001b[1;31m:\u001b[0m invalid syntax\n"
     ]
    }
   ],
   "source": [
    "x=int\"abc\""
   ]
  },
  {
   "cell_type": "code",
   "execution_count": 57,
   "id": "2fe51eb7",
   "metadata": {},
   "outputs": [],
   "source": [
    "x=\"abc\""
   ]
  },
  {
   "cell_type": "code",
   "execution_count": 58,
   "id": "b65092b4",
   "metadata": {},
   "outputs": [
    {
     "ename": "ValueError",
     "evalue": "invalid literal for int() with base 10: 'abc'",
     "output_type": "error",
     "traceback": [
      "\u001b[1;31m---------------------------------------------------------------------------\u001b[0m",
      "\u001b[1;31mValueError\u001b[0m                                Traceback (most recent call last)",
      "Cell \u001b[1;32mIn[58], line 1\u001b[0m\n\u001b[1;32m----> 1\u001b[0m x\u001b[38;5;241m=\u001b[39m\u001b[38;5;28mint\u001b[39m(x)\n",
      "\u001b[1;31mValueError\u001b[0m: invalid literal for int() with base 10: 'abc'"
     ]
    }
   ],
   "source": [
    "x=int(x)"
   ]
  },
  {
   "cell_type": "code",
   "execution_count": 59,
   "id": "e1347b0c",
   "metadata": {},
   "outputs": [],
   "source": [
    "x=\"ASHISH\""
   ]
  },
  {
   "cell_type": "code",
   "execution_count": 60,
   "id": "4f177e96",
   "metadata": {},
   "outputs": [
    {
     "name": "stdout",
     "output_type": "stream",
     "text": [
      "A\n"
     ]
    }
   ],
   "source": [
    "print(x[0])"
   ]
  },
  {
   "cell_type": "code",
   "execution_count": 61,
   "id": "3f0702be",
   "metadata": {},
   "outputs": [
    {
     "name": "stdout",
     "output_type": "stream",
     "text": [
      "I\n"
     ]
    }
   ],
   "source": [
    "print(x[3])"
   ]
  },
  {
   "cell_type": "code",
   "execution_count": 62,
   "id": "3b396309",
   "metadata": {},
   "outputs": [],
   "source": [
    "x=\"ASHISH_KUMAR\""
   ]
  },
  {
   "cell_type": "code",
   "execution_count": 63,
   "id": "0d7873de",
   "metadata": {},
   "outputs": [
    {
     "name": "stdout",
     "output_type": "stream",
     "text": [
      "H\n"
     ]
    }
   ],
   "source": [
    "print(x[2])"
   ]
  },
  {
   "cell_type": "code",
   "execution_count": 64,
   "id": "068e5a21",
   "metadata": {},
   "outputs": [
    {
     "name": "stdout",
     "output_type": "stream",
     "text": [
      "K\n"
     ]
    }
   ],
   "source": [
    "print(x[-5])"
   ]
  },
  {
   "cell_type": "code",
   "execution_count": 65,
   "id": "4bb1d6d2",
   "metadata": {},
   "outputs": [
    {
     "ename": "SyntaxError",
     "evalue": "invalid syntax (3307398722.py, line 1)",
     "output_type": "error",
     "traceback": [
      "\u001b[1;36m  Cell \u001b[1;32mIn[65], line 1\u001b[1;36m\u001b[0m\n\u001b[1;33m    x=[0:5:3]\u001b[0m\n\u001b[1;37m        ^\u001b[0m\n\u001b[1;31mSyntaxError\u001b[0m\u001b[1;31m:\u001b[0m invalid syntax\n"
     ]
    }
   ],
   "source": [
    "x=[0:5:3]"
   ]
  },
  {
   "cell_type": "code",
   "execution_count": 66,
   "id": "65167011",
   "metadata": {},
   "outputs": [],
   "source": [
    "x=\"ASHISH\""
   ]
  },
  {
   "cell_type": "code",
   "execution_count": 69,
   "id": "0f0931b9",
   "metadata": {},
   "outputs": [],
   "source": [
    "Y=x[0:5]"
   ]
  },
  {
   "cell_type": "code",
   "execution_count": 70,
   "id": "54a1e058",
   "metadata": {},
   "outputs": [
    {
     "name": "stdout",
     "output_type": "stream",
     "text": [
      "ASHIS\n"
     ]
    }
   ],
   "source": [
    "print(Y)"
   ]
  },
  {
   "cell_type": "code",
   "execution_count": 71,
   "id": "e08809a5",
   "metadata": {},
   "outputs": [],
   "source": [
    "x=\"kumar\""
   ]
  },
  {
   "cell_type": "code",
   "execution_count": 74,
   "id": "4dc4579e",
   "metadata": {},
   "outputs": [],
   "source": [
    "y=x[0:5]"
   ]
  },
  {
   "cell_type": "code",
   "execution_count": 75,
   "id": "2f5be479",
   "metadata": {},
   "outputs": [
    {
     "name": "stdout",
     "output_type": "stream",
     "text": [
      "kumar\n"
     ]
    }
   ],
   "source": [
    "print(y)"
   ]
  },
  {
   "cell_type": "code",
   "execution_count": 76,
   "id": "e7bab297",
   "metadata": {},
   "outputs": [],
   "source": [
    "x=\"ashish_kumar\""
   ]
  },
  {
   "cell_type": "code",
   "execution_count": 77,
   "id": "b03f10fe",
   "metadata": {},
   "outputs": [],
   "source": [
    "y=x[0:12]"
   ]
  },
  {
   "cell_type": "code",
   "execution_count": 78,
   "id": "8d1d840a",
   "metadata": {},
   "outputs": [
    {
     "name": "stdout",
     "output_type": "stream",
     "text": [
      "ashish_kumar\n"
     ]
    }
   ],
   "source": [
    "print(y)"
   ]
  },
  {
   "cell_type": "code",
   "execution_count": 79,
   "id": "da8f45ec",
   "metadata": {},
   "outputs": [
    {
     "name": "stdout",
     "output_type": "stream",
     "text": [
      "12\n"
     ]
    }
   ],
   "source": [
    "print(len(x))"
   ]
  },
  {
   "cell_type": "code",
   "execution_count": 80,
   "id": "dac880cf",
   "metadata": {},
   "outputs": [],
   "source": [
    "text=\"hello,let's start coding\""
   ]
  },
  {
   "cell_type": "code",
   "execution_count": 81,
   "id": "f89a9820",
   "metadata": {},
   "outputs": [
    {
     "name": "stdout",
     "output_type": "stream",
     "text": [
      "True\n"
     ]
    }
   ],
   "source": [
    "print(\"start\"in text)"
   ]
  },
  {
   "cell_type": "code",
   "execution_count": 82,
   "id": "187bb107",
   "metadata": {},
   "outputs": [],
   "source": [
    "voice=\"this is an automated voice by siri\""
   ]
  },
  {
   "cell_type": "code",
   "execution_count": 83,
   "id": "1af258a9",
   "metadata": {},
   "outputs": [
    {
     "name": "stdout",
     "output_type": "stream",
     "text": [
      "True\n"
     ]
    }
   ],
   "source": [
    "print('hello'not in voice)"
   ]
  },
  {
   "cell_type": "code",
   "execution_count": 84,
   "id": "5b327e4d",
   "metadata": {},
   "outputs": [],
   "source": [
    "xyz=\"ashish_kumar\""
   ]
  },
  {
   "cell_type": "code",
   "execution_count": 86,
   "id": "46567c6d",
   "metadata": {},
   "outputs": [
    {
     "name": "stdout",
     "output_type": "stream",
     "text": [
      "ashish_kumar\n"
     ]
    }
   ],
   "source": [
    "print(xyz[0:12])"
   ]
  },
  {
   "cell_type": "code",
   "execution_count": 87,
   "id": "09aa9d58",
   "metadata": {},
   "outputs": [
    {
     "name": "stdout",
     "output_type": "stream",
     "text": [
      "r\n"
     ]
    }
   ],
   "source": [
    "print(xyz[-1])"
   ]
  },
  {
   "cell_type": "code",
   "execution_count": 89,
   "id": "978d9280",
   "metadata": {},
   "outputs": [
    {
     "name": "stdout",
     "output_type": "stream",
     "text": [
      "kum\n"
     ]
    }
   ],
   "source": [
    "print(xyz[-5:-2])"
   ]
  },
  {
   "cell_type": "code",
   "execution_count": 91,
   "id": "2eb1ff13",
   "metadata": {},
   "outputs": [
    {
     "name": "stdout",
     "output_type": "stream",
     "text": [
      "amu\n"
     ]
    }
   ],
   "source": [
    "print(xyz[-2:-5:-1])"
   ]
  },
  {
   "cell_type": "code",
   "execution_count": 92,
   "id": "3c0e06ca",
   "metadata": {},
   "outputs": [],
   "source": [
    "word=\"hello python\""
   ]
  },
  {
   "cell_type": "code",
   "execution_count": 93,
   "id": "99b860d4",
   "metadata": {},
   "outputs": [
    {
     "name": "stdout",
     "output_type": "stream",
     "text": [
      "HELLO PYTHON\n"
     ]
    }
   ],
   "source": [
    "print(word.upper())"
   ]
  },
  {
   "cell_type": "code",
   "execution_count": 94,
   "id": "97afd0e3",
   "metadata": {},
   "outputs": [],
   "source": [
    "word=\"hello python\""
   ]
  },
  {
   "cell_type": "code",
   "execution_count": 95,
   "id": "d13173c9",
   "metadata": {},
   "outputs": [
    {
     "name": "stdout",
     "output_type": "stream",
     "text": [
      "hello python\n"
     ]
    }
   ],
   "source": [
    "print(word.lower())"
   ]
  },
  {
   "cell_type": "code",
   "execution_count": 96,
   "id": "96ab8f65",
   "metadata": {},
   "outputs": [],
   "source": [
    "a=\"hello,world!\""
   ]
  },
  {
   "cell_type": "code",
   "execution_count": 97,
   "id": "51ed8f05",
   "metadata": {},
   "outputs": [
    {
     "name": "stdout",
     "output_type": "stream",
     "text": [
      "hello,world!\n"
     ]
    }
   ],
   "source": [
    "print(a.strip())"
   ]
  },
  {
   "cell_type": "code",
   "execution_count": 98,
   "id": "d6252fd6",
   "metadata": {},
   "outputs": [],
   "source": [
    "a=\"hello,world!\""
   ]
  },
  {
   "cell_type": "code",
   "execution_count": 100,
   "id": "9439d911",
   "metadata": {},
   "outputs": [
    {
     "name": "stdout",
     "output_type": "stream",
     "text": [
      "jello,world!\n"
     ]
    }
   ],
   "source": [
    "print(a.replace(\"h\",\"j\"))"
   ]
  },
  {
   "cell_type": "code",
   "execution_count": 101,
   "id": "ec3fdb95",
   "metadata": {},
   "outputs": [],
   "source": [
    "a=\"hello,world!\""
   ]
  },
  {
   "cell_type": "code",
   "execution_count": 102,
   "id": "19ebcbb2",
   "metadata": {},
   "outputs": [
    {
     "name": "stdout",
     "output_type": "stream",
     "text": [
      "['hello', 'world!']\n"
     ]
    }
   ],
   "source": [
    "print(a.split(\",\"))"
   ]
  },
  {
   "cell_type": "code",
   "execution_count": 103,
   "id": "a9895e8c",
   "metadata": {},
   "outputs": [],
   "source": [
    "a=\"hello\""
   ]
  },
  {
   "cell_type": "code",
   "execution_count": 104,
   "id": "3766f5d5",
   "metadata": {},
   "outputs": [],
   "source": [
    "b=\"python\""
   ]
  },
  {
   "cell_type": "code",
   "execution_count": 105,
   "id": "59913cec",
   "metadata": {},
   "outputs": [],
   "source": [
    "v=a+b"
   ]
  },
  {
   "cell_type": "code",
   "execution_count": 106,
   "id": "608ae4e2",
   "metadata": {},
   "outputs": [
    {
     "name": "stdout",
     "output_type": "stream",
     "text": [
      "hellopython\n"
     ]
    }
   ],
   "source": [
    "print(v)"
   ]
  },
  {
   "cell_type": "code",
   "execution_count": 107,
   "id": "d7142b9a",
   "metadata": {},
   "outputs": [],
   "source": [
    "age=36"
   ]
  },
  {
   "cell_type": "code",
   "execution_count": 108,
   "id": "629005e5",
   "metadata": {},
   "outputs": [
    {
     "ename": "TypeError",
     "evalue": "can only concatenate str (not \"int\") to str",
     "output_type": "error",
     "traceback": [
      "\u001b[1;31m---------------------------------------------------------------------------\u001b[0m",
      "\u001b[1;31mTypeError\u001b[0m                                 Traceback (most recent call last)",
      "Cell \u001b[1;32mIn[108], line 1\u001b[0m\n\u001b[1;32m----> 1\u001b[0m txt\u001b[38;5;241m=\u001b[39m\u001b[38;5;124m\"\u001b[39m\u001b[38;5;124mmy name is john, i am\u001b[39m\u001b[38;5;124m\"\u001b[39m\u001b[38;5;241m+\u001b[39m age\n",
      "\u001b[1;31mTypeError\u001b[0m: can only concatenate str (not \"int\") to str"
     ]
    }
   ],
   "source": [
    "txt=\"my name is john, i am\"+ age"
   ]
  },
  {
   "cell_type": "code",
   "execution_count": 109,
   "id": "f16ad81a",
   "metadata": {},
   "outputs": [],
   "source": [
    "txt=\"my name is john, and i am {}\""
   ]
  },
  {
   "cell_type": "code",
   "execution_count": 110,
   "id": "f615b5ca",
   "metadata": {},
   "outputs": [
    {
     "name": "stdout",
     "output_type": "stream",
     "text": [
      "my name is john, and i am 36\n"
     ]
    }
   ],
   "source": [
    "print(txt.format(age))"
   ]
  },
  {
   "cell_type": "code",
   "execution_count": 111,
   "id": "49864541",
   "metadata": {},
   "outputs": [],
   "source": [
    "amount=3212"
   ]
  },
  {
   "cell_type": "code",
   "execution_count": 112,
   "id": "d801447c",
   "metadata": {},
   "outputs": [],
   "source": [
    "orderno=4776"
   ]
  },
  {
   "cell_type": "code",
   "execution_count": 113,
   "id": "8b3cc2e6",
   "metadata": {},
   "outputs": [],
   "source": [
    "quantity=10"
   ]
  },
  {
   "cell_type": "code",
   "execution_count": 114,
   "id": "ec848177",
   "metadata": {},
   "outputs": [],
   "source": [
    "myorder=\"i want{}of my order{}for {}rupee.\""
   ]
  },
  {
   "cell_type": "code",
   "execution_count": 115,
   "id": "1b5f0792",
   "metadata": {},
   "outputs": [
    {
     "name": "stdout",
     "output_type": "stream",
     "text": [
      "i want10of my order4776for 3212rupee.\n"
     ]
    }
   ],
   "source": [
    "print(myorder.format(quantity,orderno,amount))"
   ]
  },
  {
   "cell_type": "code",
   "execution_count": 119,
   "id": "07342502",
   "metadata": {},
   "outputs": [],
   "source": [
    "txt=\"we are the so-called \\\"vikings\\\" from the north.\""
   ]
  },
  {
   "cell_type": "code",
   "execution_count": 120,
   "id": "908d3e8e",
   "metadata": {},
   "outputs": [
    {
     "name": "stdout",
     "output_type": "stream",
     "text": [
      "we are the so-called \"vikings\" from the north.\n"
     ]
    }
   ],
   "source": [
    "print(txt)"
   ]
  },
  {
   "cell_type": "code",
   "execution_count": 122,
   "id": "393142d6",
   "metadata": {},
   "outputs": [
    {
     "name": "stdout",
     "output_type": "stream",
     "text": [
      "True\n"
     ]
    }
   ],
   "source": [
    "print(10==10)"
   ]
  },
  {
   "cell_type": "code",
   "execution_count": 123,
   "id": "92ff67a0",
   "metadata": {},
   "outputs": [
    {
     "name": "stdout",
     "output_type": "stream",
     "text": [
      "False\n"
     ]
    }
   ],
   "source": [
    "print(10<9)"
   ]
  },
  {
   "cell_type": "code",
   "execution_count": 124,
   "id": "a813f111",
   "metadata": {},
   "outputs": [
    {
     "name": "stdout",
     "output_type": "stream",
     "text": [
      "False\n"
     ]
    }
   ],
   "source": [
    "print(10==100)"
   ]
  },
  {
   "cell_type": "code",
   "execution_count": 127,
   "id": "65c36f54",
   "metadata": {},
   "outputs": [
    {
     "name": "stdout",
     "output_type": "stream",
     "text": [
      "False\n"
     ]
    }
   ],
   "source": [
    "print(bool(\"\"))"
   ]
  },
  {
   "cell_type": "code",
   "execution_count": 126,
   "id": "bb3bb195",
   "metadata": {},
   "outputs": [
    {
     "name": "stdout",
     "output_type": "stream",
     "text": [
      "True\n"
     ]
    }
   ],
   "source": [
    "print(bool(100))"
   ]
  },
  {
   "cell_type": "code",
   "execution_count": 128,
   "id": "8633479d",
   "metadata": {},
   "outputs": [
    {
     "name": "stdout",
     "output_type": "stream",
     "text": [
      "True\n"
     ]
    }
   ],
   "source": [
    "print(bool(\"python\"))"
   ]
  },
  {
   "cell_type": "code",
   "execution_count": 129,
   "id": "65614310",
   "metadata": {},
   "outputs": [
    {
     "name": "stdout",
     "output_type": "stream",
     "text": [
      "True\n"
     ]
    }
   ],
   "source": [
    "print(bool(100))"
   ]
  },
  {
   "cell_type": "code",
   "execution_count": 130,
   "id": "cd0b46cd",
   "metadata": {},
   "outputs": [
    {
     "name": "stdout",
     "output_type": "stream",
     "text": [
      "True\n"
     ]
    }
   ],
   "source": [
    "print(bool([\"apple\",\"cherry\",\"banana\"]))"
   ]
  },
  {
   "cell_type": "code",
   "execution_count": 132,
   "id": "63a291d5",
   "metadata": {},
   "outputs": [
    {
     "data": {
      "text/plain": [
       "False"
      ]
     },
     "execution_count": 132,
     "metadata": {},
     "output_type": "execute_result"
    }
   ],
   "source": [
    "bool(False)"
   ]
  },
  {
   "cell_type": "code",
   "execution_count": 133,
   "id": "c50e84f9",
   "metadata": {},
   "outputs": [
    {
     "data": {
      "text/plain": [
       "False"
      ]
     },
     "execution_count": 133,
     "metadata": {},
     "output_type": "execute_result"
    }
   ],
   "source": [
    "bool(None)"
   ]
  },
  {
   "cell_type": "code",
   "execution_count": 134,
   "id": "0f219ef3",
   "metadata": {},
   "outputs": [
    {
     "data": {
      "text/plain": [
       "False"
      ]
     },
     "execution_count": 134,
     "metadata": {},
     "output_type": "execute_result"
    }
   ],
   "source": [
    "bool(0)"
   ]
  },
  {
   "cell_type": "code",
   "execution_count": 135,
   "id": "9b12a882",
   "metadata": {},
   "outputs": [],
   "source": [
    "x=200"
   ]
  },
  {
   "cell_type": "code",
   "execution_count": 136,
   "id": "6a253957",
   "metadata": {},
   "outputs": [
    {
     "name": "stdout",
     "output_type": "stream",
     "text": [
      "True\n"
     ]
    }
   ],
   "source": [
    "print(isinstance(x,int))"
   ]
  },
  {
   "cell_type": "code",
   "execution_count": 137,
   "id": "fba858e4",
   "metadata": {},
   "outputs": [],
   "source": [
    "x=5;y=6"
   ]
  },
  {
   "cell_type": "code",
   "execution_count": 139,
   "id": "0d5038dd",
   "metadata": {},
   "outputs": [
    {
     "data": {
      "text/plain": [
       "11"
      ]
     },
     "execution_count": 139,
     "metadata": {},
     "output_type": "execute_result"
    }
   ],
   "source": [
    "x+y"
   ]
  },
  {
   "cell_type": "code",
   "execution_count": 140,
   "id": "f7e73325",
   "metadata": {},
   "outputs": [],
   "source": [
    "import operator"
   ]
  },
  {
   "cell_type": "code",
   "execution_count": 141,
   "id": "d1b37a2d",
   "metadata": {},
   "outputs": [
    {
     "data": {
      "text/plain": [
       "11"
      ]
     },
     "execution_count": 141,
     "metadata": {},
     "output_type": "execute_result"
    }
   ],
   "source": [
    "operator.add(5,6)"
   ]
  },
  {
   "cell_type": "code",
   "execution_count": 142,
   "id": "6e6329c2",
   "metadata": {},
   "outputs": [],
   "source": [
    "x=10;y=5"
   ]
  },
  {
   "cell_type": "code",
   "execution_count": 143,
   "id": "a577b767",
   "metadata": {},
   "outputs": [
    {
     "data": {
      "text/plain": [
       "5"
      ]
     },
     "execution_count": 143,
     "metadata": {},
     "output_type": "execute_result"
    }
   ],
   "source": [
    "x-y"
   ]
  },
  {
   "cell_type": "code",
   "execution_count": 144,
   "id": "d8440880",
   "metadata": {},
   "outputs": [],
   "source": [
    "import operator"
   ]
  },
  {
   "cell_type": "code",
   "execution_count": 145,
   "id": "f97a03ae",
   "metadata": {},
   "outputs": [
    {
     "data": {
      "text/plain": [
       "15"
      ]
     },
     "execution_count": 145,
     "metadata": {},
     "output_type": "execute_result"
    }
   ],
   "source": [
    "operator.add(10,5)"
   ]
  },
  {
   "cell_type": "code",
   "execution_count": 146,
   "id": "0afb53ab",
   "metadata": {},
   "outputs": [
    {
     "data": {
      "text/plain": [
       "30"
      ]
     },
     "execution_count": 146,
     "metadata": {},
     "output_type": "execute_result"
    }
   ],
   "source": [
    "operator.mul(5,6)"
   ]
  },
  {
   "cell_type": "code",
   "execution_count": 147,
   "id": "0eae964f",
   "metadata": {},
   "outputs": [
    {
     "data": {
      "text/plain": [
       "8"
      ]
     },
     "execution_count": 147,
     "metadata": {},
     "output_type": "execute_result"
    }
   ],
   "source": [
    "operator.pow(2,3)"
   ]
  },
  {
   "cell_type": "code",
   "execution_count": 148,
   "id": "717be36c",
   "metadata": {},
   "outputs": [
    {
     "data": {
      "text/plain": [
       "2.0"
      ]
     },
     "execution_count": 148,
     "metadata": {},
     "output_type": "execute_result"
    }
   ],
   "source": [
    "operator.truediv(6,3)"
   ]
  },
  {
   "cell_type": "code",
   "execution_count": 149,
   "id": "ed0c20b6",
   "metadata": {},
   "outputs": [
    {
     "data": {
      "text/plain": [
       "1"
      ]
     },
     "execution_count": 149,
     "metadata": {},
     "output_type": "execute_result"
    }
   ],
   "source": [
    "operator.floordiv(6,5)"
   ]
  },
  {
   "cell_type": "code",
   "execution_count": 150,
   "id": "62c93348",
   "metadata": {},
   "outputs": [
    {
     "data": {
      "text/plain": [
       "2"
      ]
     },
     "execution_count": 150,
     "metadata": {},
     "output_type": "execute_result"
    }
   ],
   "source": [
    "operator.mod(11,3)"
   ]
  },
  {
   "cell_type": "code",
   "execution_count": 151,
   "id": "fe6c3830",
   "metadata": {},
   "outputs": [],
   "source": [
    "x=5;y=6"
   ]
  },
  {
   "cell_type": "code",
   "execution_count": 152,
   "id": "47b8231f",
   "metadata": {},
   "outputs": [
    {
     "data": {
      "text/plain": [
       "True"
      ]
     },
     "execution_count": 152,
     "metadata": {},
     "output_type": "execute_result"
    }
   ],
   "source": [
    "x>1 and y<10"
   ]
  },
  {
   "cell_type": "code",
   "execution_count": 153,
   "id": "4c71c973",
   "metadata": {},
   "outputs": [
    {
     "data": {
      "text/plain": [
       "True"
      ]
     },
     "execution_count": 153,
     "metadata": {},
     "output_type": "execute_result"
    }
   ],
   "source": [
    "x>6 or y<10"
   ]
  },
  {
   "cell_type": "code",
   "execution_count": 154,
   "id": "27a0c2e9",
   "metadata": {},
   "outputs": [],
   "source": [
    "x=5"
   ]
  },
  {
   "cell_type": "code",
   "execution_count": 155,
   "id": "7e86dcb8",
   "metadata": {},
   "outputs": [
    {
     "data": {
      "text/plain": [
       "False"
      ]
     },
     "execution_count": 155,
     "metadata": {},
     "output_type": "execute_result"
    }
   ],
   "source": [
    "not x>1"
   ]
  },
  {
   "cell_type": "code",
   "execution_count": 156,
   "id": "a9ed4a33",
   "metadata": {},
   "outputs": [],
   "source": [
    "fruits=[\"banana\",\"apple\",\"orange\"]"
   ]
  },
  {
   "cell_type": "code",
   "execution_count": 157,
   "id": "cda98fd7",
   "metadata": {},
   "outputs": [
    {
     "name": "stdout",
     "output_type": "stream",
     "text": [
      "['banana', 'apple', 'orange']\n"
     ]
    }
   ],
   "source": [
    "print(fruits)"
   ]
  },
  {
   "cell_type": "code",
   "execution_count": 158,
   "id": "32aa658f",
   "metadata": {},
   "outputs": [
    {
     "name": "stdout",
     "output_type": "stream",
     "text": [
      "apple\n"
     ]
    }
   ],
   "source": [
    "print(fruits[1])"
   ]
  },
  {
   "cell_type": "code",
   "execution_count": 159,
   "id": "642895b3",
   "metadata": {},
   "outputs": [
    {
     "name": "stdout",
     "output_type": "stream",
     "text": [
      "orange\n"
     ]
    }
   ],
   "source": [
    "print(fruits[-1])"
   ]
  },
  {
   "cell_type": "code",
   "execution_count": 160,
   "id": "23bb1521",
   "metadata": {},
   "outputs": [],
   "source": [
    "fruits=[\"apple\",\"orange\",\"mango\",\"apple\",\"kiwi\",\"pineapple\"]"
   ]
  },
  {
   "cell_type": "code",
   "execution_count": 161,
   "id": "c42c0a5a",
   "metadata": {},
   "outputs": [
    {
     "name": "stdout",
     "output_type": "stream",
     "text": [
      "['orange', 'mango', 'apple', 'kiwi']\n"
     ]
    }
   ],
   "source": [
    "print(fruits[1:5])"
   ]
  },
  {
   "cell_type": "code",
   "execution_count": 162,
   "id": "8e907cd8",
   "metadata": {},
   "outputs": [
    {
     "name": "stdout",
     "output_type": "stream",
     "text": [
      "['apple', 'orange', 'mango', 'apple', 'kiwi']\n"
     ]
    }
   ],
   "source": [
    "print(fruits[:5])"
   ]
  },
  {
   "cell_type": "code",
   "execution_count": 163,
   "id": "8c5ff622",
   "metadata": {},
   "outputs": [
    {
     "name": "stdout",
     "output_type": "stream",
     "text": [
      "['orange', 'mango', 'apple', 'kiwi', 'pineapple']\n"
     ]
    }
   ],
   "source": [
    "print(fruits[1:])"
   ]
  },
  {
   "cell_type": "code",
   "execution_count": 166,
   "id": "58040b77",
   "metadata": {},
   "outputs": [],
   "source": [
    "fruits[1]=\"banana\""
   ]
  },
  {
   "cell_type": "code",
   "execution_count": 167,
   "id": "90ee5261",
   "metadata": {},
   "outputs": [
    {
     "name": "stdout",
     "output_type": "stream",
     "text": [
      "['apple', 'banana', 'mango', 'apple', 'kiwi', 'pineapple']\n"
     ]
    }
   ],
   "source": [
    "print(fruits)"
   ]
  },
  {
   "cell_type": "code",
   "execution_count": 169,
   "id": "c87ddba6",
   "metadata": {},
   "outputs": [],
   "source": [
    "fruits[2:4]=[\"watermelon\",\"green apple\"]"
   ]
  },
  {
   "cell_type": "code",
   "execution_count": 170,
   "id": "5f7a5d31",
   "metadata": {},
   "outputs": [
    {
     "name": "stdout",
     "output_type": "stream",
     "text": [
      "['apple', 'banana', 'watermelon', 'green apple', 'kiwi', 'pineapple']\n"
     ]
    }
   ],
   "source": [
    "print(fruits)"
   ]
  },
  {
   "cell_type": "code",
   "execution_count": 171,
   "id": "582237fd",
   "metadata": {},
   "outputs": [],
   "source": [
    "fruits=['apple','banana','orange']"
   ]
  },
  {
   "cell_type": "code",
   "execution_count": 172,
   "id": "9ab3bd68",
   "metadata": {},
   "outputs": [],
   "source": [
    "fruits[2:]=['watermelon','kiwi']"
   ]
  },
  {
   "cell_type": "code",
   "execution_count": 173,
   "id": "c4d2a8f4",
   "metadata": {},
   "outputs": [
    {
     "name": "stdout",
     "output_type": "stream",
     "text": [
      "['apple', 'banana', 'watermelon', 'kiwi']\n"
     ]
    }
   ],
   "source": [
    "print(fruits)"
   ]
  },
  {
   "cell_type": "code",
   "execution_count": 174,
   "id": "d820c900",
   "metadata": {},
   "outputs": [],
   "source": [
    "fruits=['apple','banana','orange']"
   ]
  },
  {
   "cell_type": "code",
   "execution_count": 175,
   "id": "fe5facc1",
   "metadata": {},
   "outputs": [],
   "source": [
    "fruits[1:2]=['kiwi']"
   ]
  },
  {
   "cell_type": "code",
   "execution_count": 177,
   "id": "e1d40060",
   "metadata": {},
   "outputs": [
    {
     "name": "stdout",
     "output_type": "stream",
     "text": [
      "['apple', 'kiwi', 'orange']\n"
     ]
    }
   ],
   "source": [
    "print(fruits)"
   ]
  },
  {
   "cell_type": "code",
   "execution_count": 178,
   "id": "aa99e94b",
   "metadata": {},
   "outputs": [],
   "source": [
    "fruits=[\"apple\",\"banana\",\"cherry\"]"
   ]
  },
  {
   "cell_type": "code",
   "execution_count": 182,
   "id": "b29fb9d6",
   "metadata": {},
   "outputs": [],
   "source": [
    "fruits.insert(1,\"orange\")"
   ]
  },
  {
   "cell_type": "code",
   "execution_count": 184,
   "id": "1561bba6",
   "metadata": {},
   "outputs": [
    {
     "name": "stdout",
     "output_type": "stream",
     "text": [
      "['apple', 'orange', 'banana', 'cherry', 'orange']\n"
     ]
    }
   ],
   "source": [
    "print(fruits)"
   ]
  },
  {
   "cell_type": "code",
   "execution_count": 185,
   "id": "30cde608",
   "metadata": {},
   "outputs": [],
   "source": [
    "fruits.append(\"orange\")"
   ]
  },
  {
   "cell_type": "code",
   "execution_count": 186,
   "id": "de5f738e",
   "metadata": {},
   "outputs": [
    {
     "name": "stdout",
     "output_type": "stream",
     "text": [
      "['apple', 'orange', 'banana', 'cherry', 'orange', 'orange']\n"
     ]
    }
   ],
   "source": [
    "print(fruits)"
   ]
  },
  {
   "cell_type": "code",
   "execution_count": 187,
   "id": "bcb05142",
   "metadata": {},
   "outputs": [],
   "source": [
    "fruits=[\"apple\",\"banana\",\"cherry\"]"
   ]
  },
  {
   "cell_type": "code",
   "execution_count": 188,
   "id": "e89e98ae",
   "metadata": {},
   "outputs": [],
   "source": [
    "fruits2=[\"mango\",\"pineapple\",\"papaya\"]"
   ]
  },
  {
   "cell_type": "code",
   "execution_count": 189,
   "id": "09e358a5",
   "metadata": {},
   "outputs": [],
   "source": [
    "fruits.extend(fruits2)"
   ]
  },
  {
   "cell_type": "code",
   "execution_count": 190,
   "id": "65eb8ee7",
   "metadata": {},
   "outputs": [
    {
     "name": "stdout",
     "output_type": "stream",
     "text": [
      "['apple', 'banana', 'cherry', 'mango', 'pineapple', 'papaya']\n"
     ]
    }
   ],
   "source": [
    "print(fruits)"
   ]
  },
  {
   "cell_type": "code",
   "execution_count": 196,
   "id": "8a9f1df1",
   "metadata": {},
   "outputs": [],
   "source": [
    "Fruits=[\"apple\",\"banana\",\"cherry\"]"
   ]
  },
  {
   "cell_type": "code",
   "execution_count": 195,
   "id": "bf53b4db",
   "metadata": {},
   "outputs": [],
   "source": [
    "fruits2=(\"mango\",\"pineapple\",\"papaya\")"
   ]
  },
  {
   "cell_type": "code",
   "execution_count": 197,
   "id": "df97f40e",
   "metadata": {},
   "outputs": [],
   "source": [
    "Fruits.extend(fruits2)"
   ]
  },
  {
   "cell_type": "code",
   "execution_count": 212,
   "id": "b74d19a1",
   "metadata": {},
   "outputs": [],
   "source": [
    "fruits=[\"apple\",\"banana\",\"cherry\"]"
   ]
  },
  {
   "cell_type": "code",
   "execution_count": 199,
   "id": "a509ee2b",
   "metadata": {},
   "outputs": [],
   "source": [
    "fruits.remove(\"apple\")"
   ]
  },
  {
   "cell_type": "code",
   "execution_count": 200,
   "id": "d9f5ae3d",
   "metadata": {},
   "outputs": [
    {
     "name": "stdout",
     "output_type": "stream",
     "text": [
      "['banana', 'cherry']\n"
     ]
    }
   ],
   "source": [
    "print(fruits)"
   ]
  },
  {
   "cell_type": "code",
   "execution_count": 201,
   "id": "a43fae27",
   "metadata": {},
   "outputs": [
    {
     "data": {
      "text/plain": [
       "'cherry'"
      ]
     },
     "execution_count": 201,
     "metadata": {},
     "output_type": "execute_result"
    }
   ],
   "source": [
    "fruits.pop(1)"
   ]
  },
  {
   "cell_type": "code",
   "execution_count": 205,
   "id": "f29d874d",
   "metadata": {},
   "outputs": [],
   "source": [
    "del fruits[1]"
   ]
  },
  {
   "cell_type": "code",
   "execution_count": 206,
   "id": "3c69f359",
   "metadata": {},
   "outputs": [],
   "source": [
    "del fruits"
   ]
  },
  {
   "cell_type": "code",
   "execution_count": 229,
   "id": "0f41503e",
   "metadata": {},
   "outputs": [],
   "source": [
    "fruits=[\"apple\",\"banana\",\"cherry\"]"
   ]
  },
  {
   "cell_type": "code",
   "execution_count": 230,
   "id": "49c296a5",
   "metadata": {},
   "outputs": [],
   "source": [
    "fruits.clear()"
   ]
  },
  {
   "cell_type": "code",
   "execution_count": 231,
   "id": "5b7aca8b",
   "metadata": {},
   "outputs": [
    {
     "name": "stdout",
     "output_type": "stream",
     "text": [
      "[]\n"
     ]
    }
   ],
   "source": [
    "print(fruits)"
   ]
  },
  {
   "cell_type": "code",
   "execution_count": 233,
   "id": "ebe60081",
   "metadata": {},
   "outputs": [],
   "source": [
    "myfruits=fruits.copy()"
   ]
  },
  {
   "cell_type": "code",
   "execution_count": 234,
   "id": "847d798f",
   "metadata": {},
   "outputs": [
    {
     "name": "stdout",
     "output_type": "stream",
     "text": [
      "[]\n"
     ]
    }
   ],
   "source": [
    "print(myfruits)"
   ]
  },
  {
   "cell_type": "code",
   "execution_count": null,
   "id": "53d41f77",
   "metadata": {},
   "outputs": [],
   "source": []
  }
 ],
 "metadata": {
  "kernelspec": {
   "display_name": "Python 3 (ipykernel)",
   "language": "python",
   "name": "python3"
  },
  "language_info": {
   "codemirror_mode": {
    "name": "ipython",
    "version": 3
   },
   "file_extension": ".py",
   "mimetype": "text/x-python",
   "name": "python",
   "nbconvert_exporter": "python",
   "pygments_lexer": "ipython3",
   "version": "3.11.5"
  }
 },
 "nbformat": 4,
 "nbformat_minor": 5
}
