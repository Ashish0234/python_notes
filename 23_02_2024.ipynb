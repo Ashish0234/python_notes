{
 "cells": [
  {
   "cell_type": "code",
   "execution_count": 1,
   "id": "60d572cc",
   "metadata": {},
   "outputs": [],
   "source": [
    "class Myclass:\n",
    "    _hiddenVariable=0\n",
    "    def add(self,increment):\n",
    "        self._hiddenvariable+=increment\n",
    "        print(self._hiddenVariable)\n",
    "\n",
    "\n",
    "\n"
   ]
  },
  {
   "cell_type": "code",
   "execution_count": 2,
   "id": "fa754b83",
   "metadata": {},
   "outputs": [],
   "source": [
    "myobject=Myclass()"
   ]
  },
  {
   "cell_type": "code",
   "execution_count": 3,
   "id": "09510a9f",
   "metadata": {},
   "outputs": [
    {
     "ename": "AttributeError",
     "evalue": "'Myclass' object has no attribute '_hiddenvariable'",
     "output_type": "error",
     "traceback": [
      "\u001b[1;31m---------------------------------------------------------------------------\u001b[0m",
      "\u001b[1;31mAttributeError\u001b[0m                            Traceback (most recent call last)",
      "Cell \u001b[1;32mIn[3], line 1\u001b[0m\n\u001b[1;32m----> 1\u001b[0m myobject\u001b[38;5;241m.\u001b[39madd(\u001b[38;5;241m2\u001b[39m)\n",
      "Cell \u001b[1;32mIn[1], line 4\u001b[0m, in \u001b[0;36mMyclass.add\u001b[1;34m(self, increment)\u001b[0m\n\u001b[0;32m      3\u001b[0m \u001b[38;5;28;01mdef\u001b[39;00m \u001b[38;5;21madd\u001b[39m(\u001b[38;5;28mself\u001b[39m,increment):\n\u001b[1;32m----> 4\u001b[0m     \u001b[38;5;28mself\u001b[39m\u001b[38;5;241m.\u001b[39m_hiddenvariable\u001b[38;5;241m+\u001b[39m\u001b[38;5;241m=\u001b[39mincrement\n\u001b[0;32m      5\u001b[0m     \u001b[38;5;28mprint\u001b[39m(\u001b[38;5;28mself\u001b[39m\u001b[38;5;241m.\u001b[39m_hiddenVariable)\n",
      "\u001b[1;31mAttributeError\u001b[0m: 'Myclass' object has no attribute '_hiddenvariable'"
     ]
    }
   ],
   "source": [
    "myobject.add(2)"
   ]
  },
  {
   "cell_type": "code",
   "execution_count": null,
   "id": "ddf97a62",
   "metadata": {},
   "outputs": [],
   "source": [
    "myobject.add(5)"
   ]
  },
  {
   "cell_type": "code",
   "execution_count": null,
   "id": "de5bd70c",
   "metadata": {},
   "outputs": [],
   "source": [
    "print(myobject._hiddenVariable)"
   ]
  },
  {
   "cell_type": "code",
   "execution_count": null,
   "id": "0ee04cc5",
   "metadata": {},
   "outputs": [],
   "source": [
    "class counter:\n",
    "    def __init__(self):\n",
    "        self.current=0\n",
    "    def increment(self):\n",
    "        self.current+=1\n",
    "    def value(self):\n",
    "        return self.current\n",
    "    def reset(self):\n",
    "        self.current=0"
   ]
  },
  {
   "cell_type": "code",
   "execution_count": null,
   "id": "15ccc079",
   "metadata": {},
   "outputs": [],
   "source": [
    "counter=counter()"
   ]
  },
  {
   "cell_type": "code",
   "execution_count": null,
   "id": "7b9e1e9e",
   "metadata": {},
   "outputs": [],
   "source": [
    "counter.increment()"
   ]
  },
  {
   "cell_type": "markdown",
   "id": "4a2d2aed",
   "metadata": {},
   "source": [
    "counter.increment()"
   ]
  },
  {
   "cell_type": "code",
   "execution_count": null,
   "id": "6b4d7355",
   "metadata": {},
   "outputs": [],
   "source": [
    "counter.increment()"
   ]
  },
  {
   "cell_type": "code",
   "execution_count": null,
   "id": "7f12734b",
   "metadata": {},
   "outputs": [],
   "source": [
    "counter.increment()"
   ]
  },
  {
   "cell_type": "code",
   "execution_count": null,
   "id": "a5624241",
   "metadata": {},
   "outputs": [],
   "source": [
    "print(counter.value())"
   ]
  },
  {
   "cell_type": "code",
   "execution_count": null,
   "id": "99c2834a",
   "metadata": {},
   "outputs": [],
   "source": [
    "class counter:\n",
    "    def __init__(self):\n",
    "        self._current=0\n",
    "    def incriment(self):\n",
    "        self._current+=1\n",
    "    def value(self):\n",
    "        return self._current\n",
    "    def reset(self):\n",
    "        self._current=0"
   ]
  },
  {
   "cell_type": "code",
   "execution_count": null,
   "id": "8914a775",
   "metadata": {},
   "outputs": [],
   "source": [
    "counter=counter()"
   ]
  },
  {
   "cell_type": "code",
   "execution_count": null,
   "id": "4905e9b2",
   "metadata": {},
   "outputs": [],
   "source": [
    "print(counter._current)"
   ]
  },
  {
   "cell_type": "code",
   "execution_count": null,
   "id": "0e56fa0b",
   "metadata": {},
   "outputs": [],
   "source": [
    "class person(object):\n",
    "    def __init__(self,name):\n",
    "        self.name=name\n",
    "    def getname(self):\n",
    "        return self.name\n",
    "    def isemployee(self):\n",
    "        return False"
   ]
  },
  {
   "cell_type": "code",
   "execution_count": null,
   "id": "000e8fa7",
   "metadata": {},
   "outputs": [],
   "source": [
    "class employee(person):\n",
    "    def isemployee(self):\n",
    "        return True"
   ]
  },
  {
   "cell_type": "code",
   "execution_count": null,
   "id": "98e1d4cf",
   "metadata": {},
   "outputs": [],
   "source": [
    "emp=person(\"satya\")\n"
   ]
  },
  {
   "cell_type": "code",
   "execution_count": null,
   "id": "e214e02b",
   "metadata": {},
   "outputs": [],
   "source": [
    "print(emp.getname(),emp.isemployee())"
   ]
  },
  {
   "cell_type": "code",
   "execution_count": null,
   "id": "82e695cf",
   "metadata": {},
   "outputs": [],
   "source": [
    "emp=employee(\"vignesh\")"
   ]
  },
  {
   "cell_type": "code",
   "execution_count": null,
   "id": "a8cc5bd9",
   "metadata": {},
   "outputs": [],
   "source": [
    "print(emp.getname(),emp.isemployee())"
   ]
  },
  {
   "cell_type": "code",
   "execution_count": 11,
   "id": "e9ef9dc7",
   "metadata": {},
   "outputs": [],
   "source": [
    "class person(object):\n",
    "    def __init__(self,name,idnumber):\n",
    "        self.name=name\n",
    "        self.idnumber=idnumber\n",
    "    def display(self):\n",
    "        print(self.name)\n",
    "        print(self.idnumber)\n"
   ]
  },
  {
   "cell_type": "code",
   "execution_count": 12,
   "id": "6035657f",
   "metadata": {},
   "outputs": [],
   "source": [
    "class employee(person):\n",
    "    def __init__(self,name,idnumber,salary,post):\n",
    "        self.salary=salary\n",
    "        self.post=post\n",
    "        self.name=name\n",
    "        self.idnumber=idnumber"
   ]
  },
  {
   "cell_type": "code",
   "execution_count": 13,
   "id": "5521e4e8",
   "metadata": {},
   "outputs": [],
   "source": [
    "a=employee('vignesh',98237,2000,\"intern\")\n",
    "   \n",
    "   "
   ]
  },
  {
   "cell_type": "code",
   "execution_count": 14,
   "id": "6715529f",
   "metadata": {},
   "outputs": [
    {
     "name": "stdout",
     "output_type": "stream",
     "text": [
      "vignesh\n",
      "98237\n"
     ]
    }
   ],
   "source": [
    " a.display()"
   ]
  },
  {
   "cell_type": "code",
   "execution_count": 15,
   "id": "309c3c54",
   "metadata": {},
   "outputs": [
    {
     "name": "stdout",
     "output_type": "stream",
     "text": [
      "6\n",
      "3\n"
     ]
    }
   ],
   "source": [
    "print(len(\"python\"))\n",
    "print(len([10,20,30]))"
   ]
  },
  {
   "cell_type": "code",
   "execution_count": 20,
   "id": "98314f99",
   "metadata": {},
   "outputs": [],
   "source": [
    "def add(x,y,z=0):\n",
    " return x+y+z"
   ]
  },
  {
   "cell_type": "code",
   "execution_count": 21,
   "id": "4ecfd1ba",
   "metadata": {},
   "outputs": [
    {
     "name": "stdout",
     "output_type": "stream",
     "text": [
      "5\n"
     ]
    }
   ],
   "source": [
    "print(add(2,3))"
   ]
  },
  {
   "cell_type": "code",
   "execution_count": 22,
   "id": "f7eeab72",
   "metadata": {},
   "outputs": [
    {
     "name": "stdout",
     "output_type": "stream",
     "text": [
      "9\n"
     ]
    }
   ],
   "source": [
    "print(add(2,3,4))"
   ]
  },
  {
   "cell_type": "code",
   "execution_count": 32,
   "id": "04dd2248",
   "metadata": {},
   "outputs": [],
   "source": [
    "class India():\n",
    "    def capital(self):\n",
    "        print(\"New Delhi is the capital is the capital of India.\")\n",
    "    def language(self):\n",
    "        print(\"Hindi is the most widely spoken language of India.\")\n",
    "    def type(self):\n",
    "        print(\"India is a developing country.\")"
   ]
  },
  {
   "cell_type": "code",
   "execution_count": 33,
   "id": "560371e1",
   "metadata": {},
   "outputs": [],
   "source": [
    "class USA():\n",
    "    def capital(self):\n",
    "        print(\"washington, D.C. is the capital of USA.\")\n",
    "    def language(self):\n",
    "        print(\"English is the primary language of USA.\")\n",
    "    def type(self):\n",
    "        print(\"USA is a developed country.\")"
   ]
  },
  {
   "cell_type": "code",
   "execution_count": 34,
   "id": "4bd7ee6d",
   "metadata": {},
   "outputs": [],
   "source": [
    "obj_Ind=India()\n",
    "obj_USA=USA()"
   ]
  },
  {
   "cell_type": "code",
   "execution_count": 35,
   "id": "8ee546e1",
   "metadata": {},
   "outputs": [
    {
     "name": "stdout",
     "output_type": "stream",
     "text": [
      "New Delhi is the capital is the capital of India.\n",
      "Hindi is the most widely spoken language of India.\n",
      "India is a developing country.\n",
      "washington, D.C. is the capital of USA.\n",
      "English is the primary language of USA.\n",
      "USA is a developed country.\n"
     ]
    }
   ],
   "source": [
    "for country in (obj_Ind,obj_USA):\n",
    "    country.capital()\n",
    "    country.language()\n",
    "    country.type()"
   ]
  },
  {
   "cell_type": "code",
   "execution_count": 36,
   "id": "0b698c5f",
   "metadata": {},
   "outputs": [],
   "source": [
    "class Bird:\n",
    "    def intro(self):\n",
    "        print(\"There are many types of birds.\")\n",
    "    def flight(self):\n",
    "        print(\"Most of the birds can fly but some cannot.\")\n",
    "        "
   ]
  },
  {
   "cell_type": "code",
   "execution_count": 37,
   "id": "b407da36",
   "metadata": {},
   "outputs": [],
   "source": [
    "class sparrow(Bird):\n",
    "    def flight(self):\n",
    "        print(\"sparrows can fly.\")"
   ]
  },
  {
   "cell_type": "code",
   "execution_count": 38,
   "id": "67824932",
   "metadata": {},
   "outputs": [],
   "source": [
    "class ostrich(Bird):\n",
    "    def flight(self):\n",
    "        print(\"Ostriches cannot fly.\")"
   ]
  },
  {
   "cell_type": "code",
   "execution_count": 40,
   "id": "e6605737",
   "metadata": {},
   "outputs": [],
   "source": [
    "obj_bird=Bird()"
   ]
  },
  {
   "cell_type": "code",
   "execution_count": 41,
   "id": "680fcdd7",
   "metadata": {},
   "outputs": [],
   "source": [
    "obj_spr=sparrow()"
   ]
  },
  {
   "cell_type": "code",
   "execution_count": 42,
   "id": "469096b5",
   "metadata": {},
   "outputs": [],
   "source": [
    "obj_ost=ostrich()"
   ]
  },
  {
   "cell_type": "code",
   "execution_count": 43,
   "id": "a9350449",
   "metadata": {},
   "outputs": [
    {
     "name": "stdout",
     "output_type": "stream",
     "text": [
      "There are many types of birds.\n"
     ]
    }
   ],
   "source": [
    "obj_bird.intro()"
   ]
  },
  {
   "cell_type": "code",
   "execution_count": 44,
   "id": "d89757b3",
   "metadata": {},
   "outputs": [
    {
     "name": "stdout",
     "output_type": "stream",
     "text": [
      "sparrows can fly.\n"
     ]
    }
   ],
   "source": [
    "obj_spr.flight()"
   ]
  },
  {
   "cell_type": "code",
   "execution_count": 45,
   "id": "e347087f",
   "metadata": {},
   "outputs": [
    {
     "name": "stdout",
     "output_type": "stream",
     "text": [
      "There are many types of birds.\n"
     ]
    }
   ],
   "source": [
    "obj_spr.intro()"
   ]
  },
  {
   "cell_type": "code",
   "execution_count": 46,
   "id": "96191069",
   "metadata": {},
   "outputs": [
    {
     "name": "stdout",
     "output_type": "stream",
     "text": [
      "There are many types of birds.\n"
     ]
    }
   ],
   "source": [
    "obj_spr.intro()"
   ]
  },
  {
   "cell_type": "code",
   "execution_count": 47,
   "id": "7e5c7db8",
   "metadata": {},
   "outputs": [
    {
     "name": "stdout",
     "output_type": "stream",
     "text": [
      "Ostriches cannot fly.\n"
     ]
    }
   ],
   "source": [
    "obj_ost.flight()"
   ]
  },
  {
   "cell_type": "code",
   "execution_count": 48,
   "id": "99d89f03",
   "metadata": {},
   "outputs": [],
   "source": [
    "def func(obj):\n",
    "    obj.capital()\n",
    "    obj.language()\n",
    "    obj.type()"
   ]
  },
  {
   "cell_type": "code",
   "execution_count": 49,
   "id": "d476df51",
   "metadata": {},
   "outputs": [],
   "source": [
    "obj_ind=India()\n",
    "obj_usa=USA()"
   ]
  },
  {
   "cell_type": "code",
   "execution_count": 50,
   "id": "5d29cd53",
   "metadata": {},
   "outputs": [
    {
     "name": "stdout",
     "output_type": "stream",
     "text": [
      "New Delhi is the capital is the capital of India.\n",
      "Hindi is the most widely spoken language of India.\n",
      "India is a developing country.\n"
     ]
    }
   ],
   "source": [
    "func(obj_ind)"
   ]
  },
  {
   "cell_type": "code",
   "execution_count": 51,
   "id": "fda0876d",
   "metadata": {},
   "outputs": [
    {
     "name": "stdout",
     "output_type": "stream",
     "text": [
      "washington, D.C. is the capital of USA.\n",
      "English is the primary language of USA.\n",
      "USA is a developed country.\n"
     ]
    }
   ],
   "source": [
    "func(obj_usa)"
   ]
  },
  {
   "cell_type": "code",
   "execution_count": null,
   "id": "ef72313b",
   "metadata": {},
   "outputs": [],
   "source": []
  }
 ],
 "metadata": {
  "kernelspec": {
   "display_name": "Python 3 (ipykernel)",
   "language": "python",
   "name": "python3"
  },
  "language_info": {
   "codemirror_mode": {
    "name": "ipython",
    "version": 3
   },
   "file_extension": ".py",
   "mimetype": "text/x-python",
   "name": "python",
   "nbconvert_exporter": "python",
   "pygments_lexer": "ipython3",
   "version": "3.11.5"
  }
 },
 "nbformat": 4,
 "nbformat_minor": 5
}
