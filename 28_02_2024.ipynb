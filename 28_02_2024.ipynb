{
 "cells": [
  {
   "cell_type": "code",
   "execution_count": 9,
   "id": "01e44533",
   "metadata": {},
   "outputs": [],
   "source": [
    "def reverse_string(input_string):\n",
    "    reversed_string=\"\"\n",
    "    for i in range(len(input_string)-1, -1, -1):\n",
    "        reversed_string+=input_string[i]\n",
    "    return reversed_string"
   ]
  },
  {
   "cell_type": "code",
   "execution_count": 10,
   "id": "b3315092",
   "metadata": {},
   "outputs": [
    {
     "name": "stdout",
     "output_type": "stream",
     "text": [
      "!dlrow ,olleh\n"
     ]
    }
   ],
   "source": [
    "string= \"hello, world!\"\n",
    "reversed_string = reverse_string(string)\n",
    "print(reversed_string)"
   ]
  },
  {
   "cell_type": "code",
   "execution_count": 18,
   "id": "7df27448",
   "metadata": {},
   "outputs": [],
   "source": [
    "def is_palindrome(input_string):\n",
    "    input_string = ''.join(e.lower() for e in input_string if e.isalnum())\n",
    "    return input_string == input_string[::-1]"
   ]
  },
  {
   "cell_type": "code",
   "execution_count": 19,
   "id": "4a7835aa",
   "metadata": {},
   "outputs": [
    {
     "name": "stdout",
     "output_type": "stream",
     "text": [
      "able was i saw elba  is a palindrome.\n"
     ]
    }
   ],
   "source": [
    "string =\"able was i saw elba \"\n",
    "if is_palindrome(string):\n",
    "    print(f\"{string} is a palindrome.\")\n",
    "else:\n",
    "    print(f\"{string} is not a palindrome.\")"
   ]
  },
  {
   "cell_type": "code",
   "execution_count": 22,
   "id": "d38f70ed",
   "metadata": {},
   "outputs": [],
   "source": [
    "def find_largest_element(lst):\n",
    "    if not lst:\n",
    "        return none\n",
    "    largest = lst[0]\n",
    "    for element in lst:\n",
    "        if element > largest:\n",
    "            largest = element\n",
    "            \n",
    "    return largest"
   ]
  },
  {
   "cell_type": "code",
   "execution_count": 23,
   "id": "a29208e4",
   "metadata": {},
   "outputs": [
    {
     "name": "stdout",
     "output_type": "stream",
     "text": [
      "the largest number is: 20\n"
     ]
    }
   ],
   "source": [
    "numbers = [10, 5, 7, 20, 15]\n",
    "largest_number = find_largest_element(numbers)\n",
    "print(f\"the largest number is: {largest_number}\")\n"
   ]
  },
  {
   "cell_type": "code",
   "execution_count": 30,
   "id": "db3f69bd",
   "metadata": {},
   "outputs": [],
   "source": [
    "def count_occurrences(lst):\n",
    "    occurrences = {}\n",
    "    \n",
    "    for element in lst:\n",
    "        if element in occurrences:\n",
    "            occurrences[element] += 1\n",
    "        else:\n",
    "            occurrences[element] = 1\n",
    "        \n",
    "    return occurrences"
   ]
  },
  {
   "cell_type": "code",
   "execution_count": 31,
   "id": "0e5625e7",
   "metadata": {},
   "outputs": [
    {
     "name": "stdout",
     "output_type": "stream",
     "text": [
      "1 occurs 3 time(s)\n",
      "2 occurs 2 time(s)\n",
      "3 occurs 2 time(s)\n",
      "4 occurs 1 time(s)\n",
      "5 occurs 1 time(s)\n"
     ]
    }
   ],
   "source": [
    "numbers = [1, 2, 3, 2, 1, 3, 4, 5, 1]\n",
    "occurrences = count_occurrences(numbers)\n",
    "for element, count in occurrences.items():\n",
    "    print(f\"{element} occurs {count} time(s)\")"
   ]
  },
  {
   "cell_type": "code",
   "execution_count": 38,
   "id": "1656b216",
   "metadata": {},
   "outputs": [],
   "source": [
    "def find_second_largest(numbers):\n",
    "    if len(numbers) < 2:\n",
    "        return none\n",
    "    largest = float('-inf')\n",
    "    second_largest = float('-inf')\n",
    "    \n",
    "    for num in numbers:\n",
    "        if num > largest:\n",
    "            second_largest = largest\n",
    "            largest = num\n",
    "        elif num > second_largest and num != largest:\n",
    "            second_largest = num\n",
    "            \n",
    "    if second_largest == float('-inf'):\n",
    "        return none\n",
    "    else:\n",
    "        return second_largest"
   ]
  },
  {
   "cell_type": "code",
   "execution_count": 39,
   "id": "fa8d6907",
   "metadata": {},
   "outputs": [
    {
     "name": "stdout",
     "output_type": "stream",
     "text": [
      "the second largest number is: 15\n"
     ]
    }
   ],
   "source": [
    "numbers = [10, 5, 7, 20, 15]\n",
    "second_largest = find_second_largest(numbers)\n",
    "if second_largest is None:\n",
    "    print(\"there is no second largest number. \")\n",
    "else:\n",
    "    print(f\"the second largest number is: {second_largest}\")\n"
   ]
  },
  {
   "cell_type": "code",
   "execution_count": 40,
   "id": "101d340c",
   "metadata": {},
   "outputs": [],
   "source": [
    "def remove_duplicates(lst):\n",
    "    return list(set(lst))"
   ]
  },
  {
   "cell_type": "code",
   "execution_count": 41,
   "id": "73638052",
   "metadata": {},
   "outputs": [
    {
     "name": "stdout",
     "output_type": "stream",
     "text": [
      "the list with duplicates removes: [1, 2, 3, 4, 5]\n"
     ]
    }
   ],
   "source": [
    "numbers = [1, 2, 3 , 1, 3, 4, 5, 1]\n",
    "unique_numbers = remove_duplicates(numbers)\n",
    "print(f\"the list with duplicates removes: {unique_numbers}\")"
   ]
  },
  {
   "cell_type": "code",
   "execution_count": 42,
   "id": "fefe60b5",
   "metadata": {},
   "outputs": [],
   "source": [
    "def factorial(n):\n",
    "    if n<0:\n",
    "        return None\n",
    "    result = 1 \n",
    "    for i in range(1, n+1):\n",
    "        result *= i\n",
    "    \n",
    "    return result"
   ]
  },
  {
   "cell_type": "code",
   "execution_count": 45,
   "id": "bb8c68d0",
   "metadata": {},
   "outputs": [
    {
     "name": "stdout",
     "output_type": "stream",
     "text": [
      "the factorial of 5 is: 120\n"
     ]
    }
   ],
   "source": [
    "number = 5\n",
    "factorial_result = factorial(number)\n",
    "if factorial_result is None:\n",
    "    print(\"factorial is undefined for negative numbers.\")\n",
    "else:\n",
    "    print(f\"the factorial of {number} is: {factorial_result}\")"
   ]
  },
  {
   "cell_type": "code",
   "execution_count": null,
   "id": "95f3a399",
   "metadata": {},
   "outputs": [],
   "source": []
  }
 ],
 "metadata": {
  "kernelspec": {
   "display_name": "Python 3 (ipykernel)",
   "language": "python",
   "name": "python3"
  },
  "language_info": {
   "codemirror_mode": {
    "name": "ipython",
    "version": 3
   },
   "file_extension": ".py",
   "mimetype": "text/x-python",
   "name": "python",
   "nbconvert_exporter": "python",
   "pygments_lexer": "ipython3",
   "version": "3.11.5"
  }
 },
 "nbformat": 4,
 "nbformat_minor": 5
}
