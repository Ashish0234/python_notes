{
 "cells": [
  {
   "cell_type": "code",
   "execution_count": 1,
   "id": "7f221d17",
   "metadata": {},
   "outputs": [],
   "source": [
    "file=open('20feb.txt','w')\n",
    "file.write(\"this is the write command\")\n",
    "file.write(\"it allows us to write in a particular file\")\n",
    "file.close()"
   ]
  },
  {
   "cell_type": "code",
   "execution_count": 2,
   "id": "4d3643c1",
   "metadata": {},
   "outputs": [],
   "source": [
    "file=open('20feb.txt','w')\n",
    "file.write(\"this is the write command \")\n",
    "file.write(\"i love python\")\n",
    "file.close()"
   ]
  },
  {
   "cell_type": "code",
   "execution_count": 3,
   "id": "24fdc27b",
   "metadata": {},
   "outputs": [],
   "source": [
    "file=open('20feb.txt','a')\n",
    "file.write(\" this will add this line \")\n",
    "file.close()"
   ]
  },
  {
   "cell_type": "code",
   "execution_count": 4,
   "id": "3cb32a3a",
   "metadata": {},
   "outputs": [],
   "source": [
    "file1=open(\"20feb.txt\",\"w\")\n",
    "L=[\"this is delhi \\n\",\"this is paris \\n\",\"this is london\"]\n",
    "file1.writelines(L)\n",
    "file.close()"
   ]
  },
  {
   "cell_type": "code",
   "execution_count": 5,
   "id": "aa68058e",
   "metadata": {},
   "outputs": [
    {
     "data": {
      "text/plain": [
       "8"
      ]
     },
     "execution_count": 5,
     "metadata": {},
     "output_type": "execute_result"
    }
   ],
   "source": [
    "file1=open(\"20feb.txt\",\"a\")\n",
    "#append adds at last append mode\n",
    "file1.write(\"\\n\")\n",
    "file1.write(\"today \")\n",
    "file1.write(\"tomorrow\")\n"
   ]
  },
  {
   "cell_type": "code",
   "execution_count": 6,
   "id": "a9372242",
   "metadata": {},
   "outputs": [
    {
     "name": "stdout",
     "output_type": "stream",
     "text": [
      "output of readlines after appending\n",
      "this is delhi \n",
      "this is paris \n",
      "this is london\n",
      "today tomorrow\n",
      "\n"
     ]
    }
   ],
   "source": [
    "file1=open(\"20feb.txt\",\"r\")\n",
    "print(\"output of readlines after appending\")\n",
    "print(file1.read())\n",
    "print()\n",
    "file1.close()"
   ]
  },
  {
   "cell_type": "code",
   "execution_count": 7,
   "id": "9ae64f75",
   "metadata": {},
   "outputs": [
    {
     "name": "stdout",
     "output_type": "stream",
     "text": [
      "hello\n",
      "this is delhi\n",
      "this is paris\n",
      "this is london\n",
      "today\n"
     ]
    }
   ],
   "source": [
    "L=[\"this is delhi\\n\",\"this is paris\\n\",\"this is london\\n\"]\n",
    "with open(\"20feb.txt\",\"w\")as file1:\n",
    "    file1.write(\"hello\\n\")\n",
    "    file1.writelines(L)\n",
    "with open(\"20feb.txt\",'a') as file1:\n",
    "    file1.write(\"today\")\n",
    "with open(\"20feb.txt\",\"r+\")as file1:\n",
    "    print(file1.read())\n",
    "   "
   ]
  },
  {
   "cell_type": "code",
   "execution_count": 8,
   "id": "a7b7b83f",
   "metadata": {},
   "outputs": [
    {
     "ename": "SyntaxError",
     "evalue": "expected ':' (3810920351.py, line 2)",
     "output_type": "error",
     "traceback": [
      "\u001b[1;36m  Cell \u001b[1;32mIn[8], line 2\u001b[1;36m\u001b[0m\n\u001b[1;33m    if(amount>4999)\u001b[0m\n\u001b[1;37m                   ^\u001b[0m\n\u001b[1;31mSyntaxError\u001b[0m\u001b[1;31m:\u001b[0m expected ':'\n"
     ]
    }
   ],
   "source": [
    "amount=100000\n",
    "if(amount>4999)\n",
    "print(\"you are eligible to purchase Dsa self paced\")"
   ]
  },
  {
   "cell_type": "code",
   "execution_count": null,
   "id": "dae41d42",
   "metadata": {},
   "outputs": [],
   "source": [
    "marks=10000\n",
    "a=marks/0\n",
    "print(a)"
   ]
  },
  {
   "cell_type": "code",
   "execution_count": null,
   "id": "8f694f89",
   "metadata": {},
   "outputs": [],
   "source": [
    "a=[1,2,3]"
   ]
  },
  {
   "cell_type": "code",
   "execution_count": null,
   "id": "107f80a8",
   "metadata": {},
   "outputs": [],
   "source": [
    "a[1]"
   ]
  },
  {
   "cell_type": "code",
   "execution_count": null,
   "id": "515e5c6b",
   "metadata": {},
   "outputs": [],
   "source": [
    "a[3]"
   ]
  },
  {
   "cell_type": "code",
   "execution_count": null,
   "id": "ef0eb855",
   "metadata": {},
   "outputs": [],
   "source": [
    "try:\n",
    "    print(\"second element=\",(a[1]))\n",
    "    print(\"fourth element=\",(a[3]))\n",
    "except:\n",
    "    print(\"an error occured\")\n",
    "    "
   ]
  },
  {
   "cell_type": "code",
   "execution_count": null,
   "id": "fe3821df",
   "metadata": {},
   "outputs": [],
   "source": [
    "def fun(a):\n",
    "    if a<4:\n",
    "       b=a/(a-3)\n",
    "    print(\"value of b=\",b)"
   ]
  },
  {
   "cell_type": "code",
   "execution_count": null,
   "id": "341b50bc",
   "metadata": {},
   "outputs": [],
   "source": [
    "try:\n",
    "    fun(3)\n",
    "    fun(5)\n",
    "except ZeroDivisionError:\n",
    "    print(\"ZeroDivisionError Occurred and Handled\")\n",
    "except NameError:\n",
    "    print(\"NameError Occurred and Handled\")"
   ]
  },
  {
   "cell_type": "code",
   "execution_count": null,
   "id": "cfa5794f",
   "metadata": {},
   "outputs": [],
   "source": [
    "def AbyB(a,b):\n",
    "    try:\n",
    "        c=((a+b)/(a-b))\n",
    "    except ZeroDivisionError:\n",
    "        print(\"a/b result in 0\")\n",
    "    else:\n",
    "        print(c)\n",
    "        "
   ]
  },
  {
   "cell_type": "code",
   "execution_count": null,
   "id": "99089706",
   "metadata": {},
   "outputs": [],
   "source": [
    "AbyB(2.0,3.0)\n",
    "        "
   ]
  },
  {
   "cell_type": "code",
   "execution_count": null,
   "id": "f5d701cb",
   "metadata": {},
   "outputs": [],
   "source": [
    "AbyB(3.0,3.0)"
   ]
  },
  {
   "cell_type": "code",
   "execution_count": null,
   "id": "9a0532f8",
   "metadata": {},
   "outputs": [],
   "source": [
    "try:\n",
    "    #some code....\n",
    "except:\n",
    "    #optional block\n",
    "    #handling of execption(if required)\n",
    "else:\n",
    "    #execute if no exception\n",
    "    \n",
    "finally:\n",
    "    #some code....(always executed)"
   ]
  },
  {
   "cell_type": "code",
   "execution_count": null,
   "id": "e564ec90",
   "metadata": {},
   "outputs": [],
   "source": [
    "try:\n",
    "    k=5//0\n",
    "    print(k)\n",
    "except ZeroDivisionError:\n",
    "    print(\"can't divide by zero\")\n",
    "finally:\n",
    "    print('this is always executed')"
   ]
  },
  {
   "cell_type": "code",
   "execution_count": null,
   "id": "e85053d4",
   "metadata": {},
   "outputs": [],
   "source": [
    "try:\n",
    "    raise NameError(\"Hi there\")\n",
    "except NameError:\n",
    "    print(\"An exception\")"
   ]
  },
  {
   "cell_type": "code",
   "execution_count": null,
   "id": "85623e23",
   "metadata": {},
   "outputs": [],
   "source": [
    "class MyError(Exception):\n",
    "    def __init__(self,value):\n",
    "        self.value=value\n",
    "    def __str__(self):\n",
    "        return(repr(self.value))"
   ]
  },
  {
   "cell_type": "code",
   "execution_count": null,
   "id": "95f4a205",
   "metadata": {},
   "outputs": [],
   "source": [
    "try:\n",
    "    raise(MyError(3*2))\n",
    "except MyError as error:\n",
    "    print('A New Exception occured:',error.value)"
   ]
  },
  {
   "cell_type": "code",
   "execution_count": null,
   "id": "8213c895",
   "metadata": {},
   "outputs": [],
   "source": [
    "import re\n",
    "txt= \"the rain in spain\"\n",
    "x=re.search(\"^the.*spain$\",txt)\n",
    "if x:\n",
    "    print('yes! we have a match!')\n",
    "else:\n",
    "    print(\"no match\")"
   ]
  },
  {
   "cell_type": "code",
   "execution_count": null,
   "id": "e666e6ed",
   "metadata": {},
   "outputs": [],
   "source": [
    "import re\n",
    "txt =\"the rain in spain\"\n",
    "x=re.findall(\"ai\",txt)\n",
    "print(x)"
   ]
  },
  {
   "cell_type": "code",
   "execution_count": null,
   "id": "5a294bba",
   "metadata": {},
   "outputs": [],
   "source": [
    "txt=\"the rain in spain\"\n",
    "#chech if \"Portugal\",txt\n",
    "x=re.findall(\"portugal\",txt)\n",
    "print(x)\n",
    "if (x):\n",
    "    print(\"yes, there is at least one match!\")\n",
    "else:\n",
    "    print(\"no match\")"
   ]
  },
  {
   "cell_type": "code",
   "execution_count": null,
   "id": "4bd4e255",
   "metadata": {},
   "outputs": [],
   "source": [
    "import re\n",
    "txt=\"the rain in spain\"\n",
    "x=re.search(\"\\s\",txt)\n",
    "print(\"the first white-space character is located in position:\",x.start())"
   ]
  },
  {
   "cell_type": "code",
   "execution_count": null,
   "id": "50cc0254",
   "metadata": {},
   "outputs": [],
   "source": [
    "txt=\"the rain in spain\"\n",
    "x=re.search(\"portugal\",txt)\n",
    "print(x)"
   ]
  },
  {
   "cell_type": "code",
   "execution_count": null,
   "id": "4b1b911f",
   "metadata": {},
   "outputs": [],
   "source": [
    "txt=\"the rain in spain\"\n",
    "x=re.split(\"\\s\",txt)\n",
    "print(x)"
   ]
  },
  {
   "cell_type": "code",
   "execution_count": null,
   "id": "5453f096",
   "metadata": {},
   "outputs": [],
   "source": [
    "txt=\"the rain in spain\"\n",
    "x=re.split(\"\\s\",txt,1)\n",
    "print(x)"
   ]
  },
  {
   "cell_type": "code",
   "execution_count": null,
   "id": "3c321113",
   "metadata": {},
   "outputs": [],
   "source": [
    "txt=\"the rain in spain\"\n",
    "x=re.sub(\"\\s\", \"9\" ,txt)\n",
    "print(x)"
   ]
  },
  {
   "cell_type": "code",
   "execution_count": null,
   "id": "ff2d3606",
   "metadata": {},
   "outputs": [],
   "source": [
    "txt=\"the rain in spain\"\n",
    "x=re.sub(\"\\s\",\"9\",txt,2)\n",
    "print(x)"
   ]
  },
  {
   "cell_type": "code",
   "execution_count": null,
   "id": "d8d609d5",
   "metadata": {},
   "outputs": [],
   "source": [
    "txt=\"the rain in spain\"\n",
    "x=re.sub(\"\\s\",\"9\",txt,2)\n",
    "print(x)"
   ]
  },
  {
   "cell_type": "code",
   "execution_count": null,
   "id": "debaefc2",
   "metadata": {},
   "outputs": [],
   "source": [
    "txt=\"the rain in spain\"\n",
    "x=re.search(\"ai\",txt)\n",
    "print(x)"
   ]
  },
  {
   "cell_type": "code",
   "execution_count": null,
   "id": "a38f68a8",
   "metadata": {},
   "outputs": [],
   "source": [
    "txt=\"the rain in spain\"\n",
    "x=re.search(r\"\\bs\\w+\",txt)\n",
    "print(x.span())"
   ]
  },
  {
   "cell_type": "code",
   "execution_count": null,
   "id": "268a84ce",
   "metadata": {},
   "outputs": [],
   "source": [
    "txt=\"the rain in spain\"\n",
    "x=re.search(r\"\\bs\\w+\",txt)\n",
    "print(x.group())"
   ]
  },
  {
   "cell_type": "code",
   "execution_count": null,
   "id": "b04ef8c7",
   "metadata": {},
   "outputs": [],
   "source": [
    "txt=\"the rain in spain\"\n",
    "x=re.search(r\"\\bs\\w+\",txt)\n",
    "print(x.string)"
   ]
  },
  {
   "cell_type": "code",
   "execution_count": null,
   "id": "59f9ed42",
   "metadata": {},
   "outputs": [],
   "source": [
    "def print_cube(num):\n",
    "    \"\"\"''''''\n",
    "    function to print cube of given num\n",
    "    ''''''\"\"\"\n",
    "    print(\"Cube:{}\".format(num*num*num))\n",
    "\n",
    "def print_square(num):\n",
    "    \"\"\"''''''\n",
    "    function to print square of given num\n",
    "    ''''''\"\"\"\n",
    "    print(\"square:{}\".format(num*num))\n"
   ]
  },
  {
   "cell_type": "code",
   "execution_count": null,
   "id": "42b5b698",
   "metadata": {},
   "outputs": [],
   "source": [
    "print_cube(3)\n",
    "print_square(3)"
   ]
  },
  {
   "cell_type": "code",
   "execution_count": null,
   "id": "9eb029e1",
   "metadata": {},
   "outputs": [],
   "source": [
    "import threading"
   ]
  },
  {
   "cell_type": "code",
   "execution_count": null,
   "id": "bd4fc10a",
   "metadata": {},
   "outputs": [],
   "source": [
    "if __name__==\"__main__\":\n",
    "    t1=threading.Thread(target=print_square,args=(3,))\n",
    "    t2=threading.Thread(target=print_cube,args=(3,))\n",
    "    t1.start()\n",
    "    t2.start()\n",
    "    t1.join()\n",
    "    t2.join()\n",
    "    print(\"Done!\")"
   ]
  },
  {
   "cell_type": "code",
   "execution_count": 15,
   "id": "85989bee",
   "metadata": {},
   "outputs": [
    {
     "name": "stdout",
     "output_type": "stream",
     "text": [
      "iteration0:200000\n",
      "iteration1:200000\n",
      "iteration2:200000\n",
      "iteration3:200000\n",
      "iteration4:200000\n",
      "iteration5:200000\n",
      "iteration6:200000\n",
      "iteration7:200000\n",
      "iteration8:200000\n",
      "iteration9:200000\n"
     ]
    }
   ],
   "source": [
    "import threading\n",
    "x=0\n",
    "def increment():\n",
    "    \"\"\"\n",
    "    function to increment global variable x\n",
    "    \"\"\"\n",
    "    global x\n",
    "    x+=1\n",
    "def thread_task():\n",
    "    \"\"\"\n",
    "    task for thread \n",
    "    calls increment function 100000  times.\n",
    "    \"\"\"\n",
    "    for _ in range(100000):\n",
    "        increment()\n",
    "def main_task():\n",
    "    global x\n",
    "    x=0\n",
    "    t1=threading. Thread(target=thread_task)\n",
    "    t2=threading.Thread(target=thread_task)\n",
    "    t1.start()\n",
    "    t2.start()\n",
    "    t1.join()\n",
    "    t2.join()\n",
    "if __name__==\"__main__\":\n",
    "     for i in range(10):\n",
    "        main_task()\n",
    "        print(\"iteration{0}:{1}\".format(i,x))"
   ]
  },
  {
   "cell_type": "code",
   "execution_count": null,
   "id": "5e46d387",
   "metadata": {},
   "outputs": [],
   "source": []
  },
  {
   "cell_type": "code",
   "execution_count": null,
   "id": "e969d2e7",
   "metadata": {},
   "outputs": [],
   "source": []
  },
  {
   "cell_type": "code",
   "execution_count": null,
   "id": "7923db5e",
   "metadata": {},
   "outputs": [],
   "source": []
  },
  {
   "cell_type": "code",
   "execution_count": null,
   "id": "1a0470c2",
   "metadata": {},
   "outputs": [],
   "source": []
  },
  {
   "cell_type": "code",
   "execution_count": null,
   "id": "4ca28d05",
   "metadata": {},
   "outputs": [],
   "source": []
  },
  {
   "cell_type": "code",
   "execution_count": null,
   "id": "f1b7517a",
   "metadata": {},
   "outputs": [],
   "source": []
  },
  {
   "cell_type": "code",
   "execution_count": null,
   "id": "ce737b13",
   "metadata": {},
   "outputs": [],
   "source": []
  },
  {
   "cell_type": "code",
   "execution_count": 17,
   "id": "5caf0521",
   "metadata": {},
   "outputs": [
    {
     "name": "stdout",
     "output_type": "stream",
     "text": [
      "iteration0:x=200000\n",
      "iteration1:x=200000\n",
      "iteration2:x=200000\n",
      "iteration3:x=200000\n",
      "iteration4:x=200000\n",
      "iteration5:x=200000\n",
      "iteration6:x=200000\n",
      "iteration7:x=200000\n",
      "iteration8:x=200000\n",
      "iteration9:x=200000\n"
     ]
    }
   ],
   "source": [
    "import threading\n",
    "x=0\n",
    "def increment():\n",
    "    \"\"\"\n",
    "    function to increment global variable x\n",
    "    \"\"\"\n",
    "    global x\n",
    "    x+=1\n",
    "def thread_task(lock):\n",
    "        \"\"\"\n",
    "        task for thread\n",
    "        calls increment function 100000 times.\n",
    "        \"\"\"\n",
    "        for _ in range(100000):\n",
    "            lock.acquire()\n",
    "            increment()\n",
    "            lock.release()\n",
    "def main_task():\n",
    "    global x\n",
    "    x=0\n",
    "    lock=threading.Lock()\n",
    "    t1=threading.Thread(target=thread_task,args=(lock,))\n",
    "    t2=threading.Thread(target=thread_task,args=(lock,))\n",
    "    t1.start()\n",
    "    t2.start()\n",
    "    t1.join()\n",
    "    t2.join()\n",
    "if __name__==\"__main__\":\n",
    "    for i in range (10):\n",
    "            main_task()\n",
    "            print(\"iteration{0}:x={1}\".format(i,x))\n",
    "        "
   ]
  },
  {
   "cell_type": "code",
   "execution_count": 26,
   "id": "d3986867",
   "metadata": {},
   "outputs": [],
   "source": [
    "@greet\n",
    "def hello():\n",
    "    print(\"hello world\")"
   ]
  },
  {
   "cell_type": "code",
   "execution_count": 27,
   "id": "619f6dea",
   "metadata": {},
   "outputs": [
    {
     "name": "stdout",
     "output_type": "stream",
     "text": [
      "good morning\n",
      "hello world\n",
      "thanks for using this function\n"
     ]
    }
   ],
   "source": [
    "hello()"
   ]
  },
  {
   "cell_type": "code",
   "execution_count": 24,
   "id": "b6857275",
   "metadata": {},
   "outputs": [],
   "source": [
    "def greet(fx):\n",
    "    def mfx():\n",
    "        print(\"good morning\")\n",
    "        fx()\n",
    "        print(\"thanks for using this function\")\n",
    "    return mfx"
   ]
  },
  {
   "cell_type": "code",
   "execution_count": 25,
   "id": "b653fdcc",
   "metadata": {},
   "outputs": [
    {
     "name": "stdout",
     "output_type": "stream",
     "text": [
      "good morning\n",
      "hello world\n",
      "thanks for using this function\n"
     ]
    }
   ],
   "source": [
    "greet(hello)()"
   ]
  },
  {
   "cell_type": "code",
   "execution_count": 30,
   "id": "1d3fac75",
   "metadata": {},
   "outputs": [],
   "source": [
    "def greet(fx):\n",
    "    def mfx(*args,**kwargs):\n",
    "        print(\"good morning\")\n",
    "        fx(*args,**kwargs)\n",
    "        print(\"thanks for using this function\")\n",
    "    return mfx"
   ]
  },
  {
   "cell_type": "code",
   "execution_count": 33,
   "id": "e20e0c24",
   "metadata": {},
   "outputs": [],
   "source": [
    "@greet\n",
    "def add(a,b):\n",
    "    print(a+b)"
   ]
  },
  {
   "cell_type": "code",
   "execution_count": 34,
   "id": "0a308d8a",
   "metadata": {},
   "outputs": [
    {
     "name": "stdout",
     "output_type": "stream",
     "text": [
      "good morning\n",
      "good morning\n",
      "3\n",
      "thanks for using this function\n",
      "thanks for using this function\n"
     ]
    }
   ],
   "source": [
    "greet(add)(1,2)\n"
   ]
  },
  {
   "cell_type": "code",
   "execution_count": 35,
   "id": "74566c1e",
   "metadata": {},
   "outputs": [
    {
     "name": "stdout",
     "output_type": "stream",
     "text": [
      "good morning\n",
      "3\n",
      "thanks for using this function\n"
     ]
    }
   ],
   "source": [
    "add(1,2)"
   ]
  },
  {
   "cell_type": "code",
   "execution_count": null,
   "id": "d59ff8d9",
   "metadata": {},
   "outputs": [],
   "source": []
  }
 ],
 "metadata": {
  "kernelspec": {
   "display_name": "Python 3 (ipykernel)",
   "language": "python",
   "name": "python3"
  },
  "language_info": {
   "codemirror_mode": {
    "name": "ipython",
    "version": 3
   },
   "file_extension": ".py",
   "mimetype": "text/x-python",
   "name": "python",
   "nbconvert_exporter": "python",
   "pygments_lexer": "ipython3",
   "version": "3.11.5"
  }
 },
 "nbformat": 4,
 "nbformat_minor": 5
}
