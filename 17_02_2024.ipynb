{
 "cells": [
  {
   "cell_type": "code",
   "execution_count": 16,
   "id": "af5d2b46",
   "metadata": {},
   "outputs": [],
   "source": [
    "def mult(a,b):\n",
    " result=a*b\n",
    " print(result)"
   ]
  },
  {
   "cell_type": "code",
   "execution_count": 17,
   "id": "a1245c91",
   "metadata": {},
   "outputs": [
    {
     "name": "stdout",
     "output_type": "stream",
     "text": [
      "132\n"
     ]
    }
   ],
   "source": [
    "mult(12,11)"
   ]
  },
  {
   "cell_type": "code",
   "execution_count": 24,
   "id": "d0bf7e08",
   "metadata": {},
   "outputs": [],
   "source": [
    "def pow(a,b):\n",
    " result=a**b\n",
    " print(result)"
   ]
  },
  {
   "cell_type": "code",
   "execution_count": 25,
   "id": "5eeb9e6b",
   "metadata": {},
   "outputs": [
    {
     "name": "stdout",
     "output_type": "stream",
     "text": [
      "8\n"
     ]
    }
   ],
   "source": [
    "pow(2,3)"
   ]
  },
  {
   "cell_type": "code",
   "execution_count": 40,
   "id": "87b3133a",
   "metadata": {},
   "outputs": [],
   "source": [
    "def div(a,b):\n",
    "    if b==0:\n",
    "        print(\"you given wrong number\")\n",
    "    else:\n",
    "     result=a/b\n",
    "     print(result)"
   ]
  },
  {
   "cell_type": "code",
   "execution_count": 47,
   "id": "a03848da",
   "metadata": {},
   "outputs": [
    {
     "ename": "TypeError",
     "evalue": "div() missing 1 required positional argument: 'b'",
     "output_type": "error",
     "traceback": [
      "\u001b[1;31m---------------------------------------------------------------------------\u001b[0m",
      "\u001b[1;31mTypeError\u001b[0m                                 Traceback (most recent call last)",
      "Cell \u001b[1;32mIn[47], line 1\u001b[0m\n\u001b[1;32m----> 1\u001b[0m div(\u001b[38;5;241m5\u001b[39m)\n",
      "\u001b[1;31mTypeError\u001b[0m: div() missing 1 required positional argument: 'b'"
     ]
    }
   ],
   "source": [
    "div(5)"
   ]
  },
  {
   "cell_type": "code",
   "execution_count": 50,
   "id": "11f8bafc",
   "metadata": {},
   "outputs": [],
   "source": [
    "def myfun(x,y=50):\n",
    "    print(\"x:\",x)\n",
    "    print(\"y:\",y)\n",
    "    #driver code(we call my fun()with only argument)\n",
    "   "
   ]
  },
  {
   "cell_type": "code",
   "execution_count": 51,
   "id": "73bd7229",
   "metadata": {},
   "outputs": [
    {
     "name": "stdout",
     "output_type": "stream",
     "text": [
      "x: 10\n",
      "y: 50\n"
     ]
    }
   ],
   "source": [
    " myfun(10)"
   ]
  },
  {
   "cell_type": "code",
   "execution_count": 52,
   "id": "b01570d0",
   "metadata": {},
   "outputs": [
    {
     "name": "stdout",
     "output_type": "stream",
     "text": [
      "x: 12\n",
      "y: 23\n"
     ]
    }
   ],
   "source": [
    "myfun(12,23)"
   ]
  },
  {
   "cell_type": "code",
   "execution_count": 53,
   "id": "ea7da744",
   "metadata": {},
   "outputs": [],
   "source": [
    "def student(firstname, lastname):\n",
    "    print(firstname, lastname)\n",
    "    #keyword arguments"
   ]
  },
  {
   "cell_type": "code",
   "execution_count": 54,
   "id": "9b008177",
   "metadata": {},
   "outputs": [
    {
     "name": "stdout",
     "output_type": "stream",
     "text": [
      "python functions\n"
     ]
    }
   ],
   "source": [
    "student(firstname='python',lastname='functions')\n"
   ]
  },
  {
   "cell_type": "code",
   "execution_count": 55,
   "id": "8892f1b6",
   "metadata": {},
   "outputs": [
    {
     "name": "stdout",
     "output_type": "stream",
     "text": [
      "programmers hello\n"
     ]
    }
   ],
   "source": [
    "student(lastname='hello',firstname='programmers')"
   ]
  },
  {
   "cell_type": "code",
   "execution_count": 60,
   "id": "c5f8c45b",
   "metadata": {},
   "outputs": [],
   "source": [
    "def my_function(*kids):\n",
    "    print(\"the youngest child is \" + kids[2])\n"
   ]
  },
  {
   "cell_type": "code",
   "execution_count": 61,
   "id": "d4c136a6",
   "metadata": {},
   "outputs": [
    {
     "name": "stdout",
     "output_type": "stream",
     "text": [
      "the youngest child is linus\n"
     ]
    }
   ],
   "source": [
    "my_function(\"emil\",\"tobias\",\"linus\")"
   ]
  },
  {
   "cell_type": "code",
   "execution_count": 62,
   "id": "d93ec9b0",
   "metadata": {},
   "outputs": [],
   "source": [
    "def myfunction(*argv):\n",
    "    for x in argv:\n",
    "        print(x)\n",
    "        "
   ]
  },
  {
   "cell_type": "code",
   "execution_count": 63,
   "id": "80cc1090",
   "metadata": {},
   "outputs": [
    {
     "name": "stdout",
     "output_type": "stream",
     "text": [
      "hello\n",
      "welcome\n",
      "to\n",
      "ipcs\n"
     ]
    }
   ],
   "source": [
    "myfunction('hello','welcome','to','ipcs')"
   ]
  },
  {
   "cell_type": "code",
   "execution_count": 66,
   "id": "1ef8561d",
   "metadata": {},
   "outputs": [],
   "source": [
    "def my_function(**student):\n",
    "    print(\"his first name is \"+student[\"fname\"])"
   ]
  },
  {
   "cell_type": "code",
   "execution_count": 67,
   "id": "46b6eef5",
   "metadata": {},
   "outputs": [
    {
     "name": "stdout",
     "output_type": "stream",
     "text": [
      "his first name is vignesh\n"
     ]
    }
   ],
   "source": [
    "my_function(fname=\"vignesh\",iname=\"s\")"
   ]
  },
  {
   "cell_type": "code",
   "execution_count": 68,
   "id": "a283d1d4",
   "metadata": {},
   "outputs": [],
   "source": [
    "def myfun(**kwargs):\n",
    "    for key, value in kwargs.items():\n",
    "        print(key,value)\n",
    "   "
   ]
  },
  {
   "cell_type": "code",
   "execution_count": 69,
   "id": "bd577a72",
   "metadata": {},
   "outputs": [
    {
     "name": "stdout",
     "output_type": "stream",
     "text": [
      "first welcome\n",
      "mid for\n",
      "last course\n"
     ]
    }
   ],
   "source": [
    " myfun(first='welcome',mid='for',last='course')"
   ]
  },
  {
   "cell_type": "code",
   "execution_count": 72,
   "id": "1d6635a2",
   "metadata": {},
   "outputs": [],
   "source": [
    "def my_function(country=\"norway\"):\n",
    "    print(\"i am from \"+country)"
   ]
  },
  {
   "cell_type": "code",
   "execution_count": 73,
   "id": "99fa3af5",
   "metadata": {},
   "outputs": [
    {
     "name": "stdout",
     "output_type": "stream",
     "text": [
      "i am from sweden\n"
     ]
    }
   ],
   "source": [
    "my_function(\"sweden\")"
   ]
  },
  {
   "cell_type": "code",
   "execution_count": 74,
   "id": "a1fbcc70",
   "metadata": {},
   "outputs": [
    {
     "name": "stdout",
     "output_type": "stream",
     "text": [
      "i am from india\n"
     ]
    }
   ],
   "source": [
    "my_function(\"india\")"
   ]
  },
  {
   "cell_type": "code",
   "execution_count": 75,
   "id": "ec2f232f",
   "metadata": {},
   "outputs": [
    {
     "name": "stdout",
     "output_type": "stream",
     "text": [
      "i am from norway\n"
     ]
    }
   ],
   "source": [
    "my_function()\n"
   ]
  },
  {
   "cell_type": "code",
   "execution_count": 76,
   "id": "b97f0bcf",
   "metadata": {},
   "outputs": [
    {
     "name": "stdout",
     "output_type": "stream",
     "text": [
      "i am from brazil\n"
     ]
    }
   ],
   "source": [
    "my_function(\"brazil\")"
   ]
  },
  {
   "cell_type": "code",
   "execution_count": 77,
   "id": "a99b6e36",
   "metadata": {},
   "outputs": [],
   "source": [
    "def my_function(xyz):\n",
    "    for x in xyz:\n",
    "        print(x)"
   ]
  },
  {
   "cell_type": "code",
   "execution_count": 78,
   "id": "f7aa11a9",
   "metadata": {},
   "outputs": [],
   "source": [
    "fruits=[\"apple\",\"banana\",\"cherry\"]"
   ]
  },
  {
   "cell_type": "code",
   "execution_count": 79,
   "id": "c2737b33",
   "metadata": {},
   "outputs": [
    {
     "name": "stdout",
     "output_type": "stream",
     "text": [
      "apple\n",
      "banana\n",
      "cherry\n"
     ]
    }
   ],
   "source": [
    "my_function(fruits)"
   ]
  },
  {
   "cell_type": "code",
   "execution_count": 80,
   "id": "282161c8",
   "metadata": {},
   "outputs": [],
   "source": [
    "def square_value(num):\n",
    "    return num**2#this function returns the square value of the entered number."
   ]
  },
  {
   "cell_type": "code",
   "execution_count": 81,
   "id": "1b870156",
   "metadata": {},
   "outputs": [
    {
     "name": "stdout",
     "output_type": "stream",
     "text": [
      "4\n"
     ]
    }
   ],
   "source": [
    "print(square_value(2))"
   ]
  },
  {
   "cell_type": "code",
   "execution_count": 82,
   "id": "26def1bb",
   "metadata": {},
   "outputs": [
    {
     "name": "stdout",
     "output_type": "stream",
     "text": [
      "16\n"
     ]
    }
   ],
   "source": [
    "print(square_value(-4))"
   ]
  },
  {
   "cell_type": "code",
   "execution_count": 85,
   "id": "3840904e",
   "metadata": {},
   "outputs": [],
   "source": [
    "def myfunction(x):\n",
    " x[0]=30\n",
    "#driver code (note that lst is modified after function call.)"
   ]
  },
  {
   "cell_type": "code",
   "execution_count": 86,
   "id": "3e51e7d8",
   "metadata": {},
   "outputs": [],
   "source": [
    "lst=[9,11,13,14,15]"
   ]
  },
  {
   "cell_type": "code",
   "execution_count": 87,
   "id": "a11321c0",
   "metadata": {},
   "outputs": [],
   "source": [
    "myfunction(lst)"
   ]
  },
  {
   "cell_type": "code",
   "execution_count": 88,
   "id": "745a08a9",
   "metadata": {},
   "outputs": [
    {
     "name": "stdout",
     "output_type": "stream",
     "text": [
      "[30, 11, 13, 14, 15]\n"
     ]
    }
   ],
   "source": [
    "print(lst)"
   ]
  },
  {
   "cell_type": "code",
   "execution_count": 96,
   "id": "7050db1f",
   "metadata": {},
   "outputs": [],
   "source": [
    "def f1():\n",
    "    s='i love python'\n",
    "    def f2():\n",
    "        print(s)\n",
    "    f2()\n",
    "    #driver's code"
   ]
  },
  {
   "cell_type": "code",
   "execution_count": 97,
   "id": "99aac5f9",
   "metadata": {},
   "outputs": [
    {
     "name": "stdout",
     "output_type": "stream",
     "text": [
      "i love python\n"
     ]
    }
   ],
   "source": [
    "f1()"
   ]
  },
  {
   "cell_type": "code",
   "execution_count": 98,
   "id": "1d1666b4",
   "metadata": {},
   "outputs": [
    {
     "name": "stdout",
     "output_type": "stream",
     "text": [
      "<function <lambda> at 0x000001D99F531BC0>\n"
     ]
    }
   ],
   "source": [
    "#python program to demonstrate\n",
    "#lambda functions\n",
    "strings='hello python'\n",
    "#lambda returns a function object\n",
    "print(lambda strings:string)"
   ]
  },
  {
   "cell_type": "code",
   "execution_count": 99,
   "id": "4e37b01e",
   "metadata": {},
   "outputs": [
    {
     "data": {
      "text/plain": [
       "<function __main__.<lambda>(x)>"
      ]
     },
     "execution_count": 99,
     "metadata": {},
     "output_type": "execute_result"
    }
   ],
   "source": [
    "x=\"hello python\"\n",
    "#lambda gets pass to print\n",
    "(lambda x : print(x))"
   ]
  },
  {
   "cell_type": "code",
   "execution_count": 101,
   "id": "262fb93b",
   "metadata": {},
   "outputs": [],
   "source": [
    "def cube(y):\n",
    "    return y*y*y"
   ]
  },
  {
   "cell_type": "code",
   "execution_count": 102,
   "id": "8dcf065e",
   "metadata": {},
   "outputs": [
    {
     "name": "stdout",
     "output_type": "stream",
     "text": [
      "125\n"
     ]
    }
   ],
   "source": [
    "print(cube(5))"
   ]
  },
  {
   "cell_type": "code",
   "execution_count": 103,
   "id": "f849efb3",
   "metadata": {},
   "outputs": [],
   "source": [
    "g=lambda x:x*x*x"
   ]
  },
  {
   "cell_type": "code",
   "execution_count": 104,
   "id": "bf5600b9",
   "metadata": {},
   "outputs": [
    {
     "name": "stdout",
     "output_type": "stream",
     "text": [
      "343\n"
     ]
    }
   ],
   "source": [
    "print(g(7))"
   ]
  },
  {
   "cell_type": "code",
   "execution_count": 105,
   "id": "33742a5d",
   "metadata": {},
   "outputs": [],
   "source": [
    "def power(n):\n",
    "    return lambda a:a**n"
   ]
  },
  {
   "cell_type": "code",
   "execution_count": 106,
   "id": "b89dfafc",
   "metadata": {},
   "outputs": [],
   "source": [
    "base=power(2)"
   ]
  },
  {
   "cell_type": "code",
   "execution_count": 107,
   "id": "7e96fdac",
   "metadata": {},
   "outputs": [
    {
     "name": "stdout",
     "output_type": "stream",
     "text": [
      "now power is set to 2\n"
     ]
    }
   ],
   "source": [
    "print(\"now power is set to 2\")"
   ]
  },
  {
   "cell_type": "code",
   "execution_count": 109,
   "id": "670c81d8",
   "metadata": {},
   "outputs": [
    {
     "name": "stdout",
     "output_type": "stream",
     "text": [
      "6 powerof 2= 36\n"
     ]
    }
   ],
   "source": [
    "print(\"6 powerof 2=\",base(6))"
   ]
  },
  {
   "cell_type": "code",
   "execution_count": 110,
   "id": "36b1ddbb",
   "metadata": {},
   "outputs": [],
   "source": [
    "base=power(5)"
   ]
  },
  {
   "cell_type": "code",
   "execution_count": 111,
   "id": "aa177b2e",
   "metadata": {},
   "outputs": [
    {
     "name": "stdout",
     "output_type": "stream",
     "text": [
      "now power is set to 5\n"
     ]
    }
   ],
   "source": [
    "print(\"now power is set to 5\")"
   ]
  },
  {
   "cell_type": "code",
   "execution_count": 113,
   "id": "34d786eb",
   "metadata": {},
   "outputs": [
    {
     "name": "stdout",
     "output_type": "stream",
     "text": [
      "8 powerof 5= 32768\n"
     ]
    }
   ],
   "source": [
    "print(\"8 powerof 5=\",base(8))"
   ]
  },
  {
   "cell_type": "code",
   "execution_count": 115,
   "id": "a3e7d37e",
   "metadata": {},
   "outputs": [
    {
     "name": "stdout",
     "output_type": "stream",
     "text": [
      "[5, 3, 31, 11]\n"
     ]
    }
   ],
   "source": [
    "a=[100,2,8,60,5,4,3,31,10,11]\n",
    "#in filter either we use assignment or conditional operator,the pass actual parameter will get return\n",
    "filtered=filter(lambda x:x%2!=0,a)\n",
    "print(list(filtered))"
   ]
  },
  {
   "cell_type": "code",
   "execution_count": 116,
   "id": "e7260e4b",
   "metadata": {},
   "outputs": [
    {
     "name": "stdout",
     "output_type": "stream",
     "text": [
      "[True, True, True, True, False, True, False, False, True, False]\n"
     ]
    }
   ],
   "source": [
    "maped=map(lambda x:x%2==0,a)\n",
    "print(list(maped))"
   ]
  },
  {
   "cell_type": "code",
   "execution_count": 122,
   "id": "f9660a77",
   "metadata": {},
   "outputs": [],
   "source": [
    "def myfunction():\n",
    "    print(s)\n",
    "    #global scope    "
   ]
  },
  {
   "cell_type": "code",
   "execution_count": 123,
   "id": "8d5fd6bb",
   "metadata": {},
   "outputs": [],
   "source": [
    "s=\"i love python\""
   ]
  },
  {
   "cell_type": "code",
   "execution_count": 124,
   "id": "b661e005",
   "metadata": {},
   "outputs": [
    {
     "name": "stdout",
     "output_type": "stream",
     "text": [
      "i love python\n"
     ]
    }
   ],
   "source": [
    "myfunction()"
   ]
  },
  {
   "cell_type": "code",
   "execution_count": 125,
   "id": "ed1c6a72",
   "metadata": {},
   "outputs": [
    {
     "name": "stdout",
     "output_type": "stream",
     "text": [
      "i love python\n"
     ]
    }
   ],
   "source": [
    "print(s)"
   ]
  },
  {
   "cell_type": "code",
   "execution_count": 126,
   "id": "20dbaaba",
   "metadata": {},
   "outputs": [],
   "source": [
    "def myfunction():\n",
    "    s=\"me too.\"\n",
    "    print(s)"
   ]
  },
  {
   "cell_type": "code",
   "execution_count": 127,
   "id": "5c35d1e2",
   "metadata": {},
   "outputs": [],
   "source": [
    "#global scope\n",
    "s=\"i love excel\"\n"
   ]
  },
  {
   "cell_type": "code",
   "execution_count": 128,
   "id": "61f588a8",
   "metadata": {},
   "outputs": [
    {
     "name": "stdout",
     "output_type": "stream",
     "text": [
      "me too.\n"
     ]
    }
   ],
   "source": [
    "myfunction()\n"
   ]
  },
  {
   "cell_type": "code",
   "execution_count": 129,
   "id": "2d22c9ed",
   "metadata": {},
   "outputs": [
    {
     "name": "stdout",
     "output_type": "stream",
     "text": [
      "i love excel\n"
     ]
    }
   ],
   "source": [
    "print(s)"
   ]
  },
  {
   "cell_type": "code",
   "execution_count": 130,
   "id": "e1d8cbec",
   "metadata": {},
   "outputs": [
    {
     "name": "stdout",
     "output_type": "stream",
     "text": [
      "me too.\n"
     ]
    }
   ],
   "source": [
    "myfunction()"
   ]
  },
  {
   "cell_type": "code",
   "execution_count": 132,
   "id": "28281928",
   "metadata": {},
   "outputs": [],
   "source": [
    "a=1\n",
    "def f():\n",
    "    print('inside f():',a)"
   ]
  },
  {
   "cell_type": "code",
   "execution_count": 133,
   "id": "095c67be",
   "metadata": {},
   "outputs": [],
   "source": [
    "def g():\n",
    "    a=2\n",
    "    print('inside g():',a)"
   ]
  },
  {
   "cell_type": "code",
   "execution_count": 134,
   "id": "92ba0683",
   "metadata": {},
   "outputs": [],
   "source": [
    "def h():\n",
    "    global a\n",
    "    a=3\n",
    "    print('inside h():',a)\n",
    "    print('global:',a)"
   ]
  },
  {
   "cell_type": "code",
   "execution_count": 135,
   "id": "7acbb142",
   "metadata": {},
   "outputs": [
    {
     "name": "stdout",
     "output_type": "stream",
     "text": [
      "inside f(): 1\n"
     ]
    }
   ],
   "source": [
    "f()"
   ]
  },
  {
   "cell_type": "code",
   "execution_count": 136,
   "id": "16e61263",
   "metadata": {},
   "outputs": [
    {
     "name": "stdout",
     "output_type": "stream",
     "text": [
      "inside g(): 2\n"
     ]
    }
   ],
   "source": [
    "g()"
   ]
  },
  {
   "cell_type": "code",
   "execution_count": 137,
   "id": "de0015a8",
   "metadata": {},
   "outputs": [
    {
     "name": "stdout",
     "output_type": "stream",
     "text": [
      "inside f(): 1\n"
     ]
    }
   ],
   "source": [
    "f()"
   ]
  },
  {
   "cell_type": "code",
   "execution_count": 138,
   "id": "78dea384",
   "metadata": {},
   "outputs": [
    {
     "name": "stdout",
     "output_type": "stream",
     "text": [
      "inside h(): 3\n",
      "global: 3\n"
     ]
    }
   ],
   "source": [
    "h()"
   ]
  },
  {
   "cell_type": "code",
   "execution_count": 139,
   "id": "bd44275c",
   "metadata": {},
   "outputs": [
    {
     "name": "stdout",
     "output_type": "stream",
     "text": [
      "inside f(): 3\n"
     ]
    }
   ],
   "source": [
    "f()"
   ]
  },
  {
   "cell_type": "code",
   "execution_count": 140,
   "id": "bd12b3b5",
   "metadata": {},
   "outputs": [],
   "source": [
    "def shout(text):\n",
    "    return text.upper()\n"
   ]
  },
  {
   "cell_type": "code",
   "execution_count": 141,
   "id": "7282ceb2",
   "metadata": {},
   "outputs": [
    {
     "name": "stdout",
     "output_type": "stream",
     "text": [
      "HELLO\n"
     ]
    }
   ],
   "source": [
    "print (shout('hello'))"
   ]
  },
  {
   "cell_type": "code",
   "execution_count": 142,
   "id": "b36bafd0",
   "metadata": {},
   "outputs": [],
   "source": [
    "yell=shout"
   ]
  },
  {
   "cell_type": "code",
   "execution_count": 143,
   "id": "eb7708ed",
   "metadata": {},
   "outputs": [
    {
     "name": "stdout",
     "output_type": "stream",
     "text": [
      "HELLO\n"
     ]
    }
   ],
   "source": [
    "print(yell('hello'))"
   ]
  },
  {
   "cell_type": "code",
   "execution_count": 144,
   "id": "f1a7f385",
   "metadata": {},
   "outputs": [],
   "source": [
    "def shout(text):\n",
    "    return text.upper()"
   ]
  },
  {
   "cell_type": "code",
   "execution_count": 153,
   "id": "39ee60fb",
   "metadata": {},
   "outputs": [],
   "source": [
    "def whisper(text):\n",
    "    return text.lower()"
   ]
  },
  {
   "cell_type": "code",
   "execution_count": 157,
   "id": "a126bf5b",
   "metadata": {},
   "outputs": [],
   "source": [
    "def greet(func):\n",
    "    greeting=func(\"\"\"Hi, I am created by a function passed as an argument.\"\"\")\n",
    "    print(greeting)"
   ]
  },
  {
   "cell_type": "code",
   "execution_count": 158,
   "id": "af278dbe",
   "metadata": {},
   "outputs": [
    {
     "name": "stdout",
     "output_type": "stream",
     "text": [
      "HI, I AM CREATED BY A FUNCTION PASSED AS AN ARGUMENT.\n"
     ]
    }
   ],
   "source": [
    "greet(shout)"
   ]
  },
  {
   "cell_type": "code",
   "execution_count": 159,
   "id": "e1fac5fe",
   "metadata": {},
   "outputs": [
    {
     "name": "stdout",
     "output_type": "stream",
     "text": [
      "hi, i am created by a function passed as an argument.\n"
     ]
    }
   ],
   "source": [
    "greet(whisper)"
   ]
  },
  {
   "cell_type": "code",
   "execution_count": 161,
   "id": "fbee43e3",
   "metadata": {},
   "outputs": [],
   "source": [
    "def create_adder(x):\n",
    "    def adder(y):\n",
    "        return x+y\n",
    "    return adder\n"
   ]
  },
  {
   "cell_type": "code",
   "execution_count": 162,
   "id": "1bf23d8e",
   "metadata": {},
   "outputs": [],
   "source": [
    "add_15=create_adder(15)\n"
   ]
  },
  {
   "cell_type": "code",
   "execution_count": 163,
   "id": "b0d2c901",
   "metadata": {},
   "outputs": [
    {
     "name": "stdout",
     "output_type": "stream",
     "text": [
      "25\n"
     ]
    }
   ],
   "source": [
    "print(add_15(10))"
   ]
  },
  {
   "cell_type": "code",
   "execution_count": 171,
   "id": "5e42d973",
   "metadata": {},
   "outputs": [],
   "source": [
    "def calc_factorial(x):\n",
    "    if x==1:\n",
    "        return 1\n",
    "    else:\n",
    "        return(x*calc_factorial(x-1))\n"
   ]
  },
  {
   "cell_type": "code",
   "execution_count": 172,
   "id": "6acdc033",
   "metadata": {},
   "outputs": [
    {
     "name": "stdout",
     "output_type": "stream",
     "text": [
      "the factorial of 4 is 24\n"
     ]
    }
   ],
   "source": [
    "num=4\n",
    "print(\"the factorial of\",num,\"is\",calc_factorial(num))"
   ]
  },
  {
   "cell_type": "code",
   "execution_count": null,
   "id": "a9dd3559",
   "metadata": {},
   "outputs": [],
   "source": []
  }
 ],
 "metadata": {
  "kernelspec": {
   "display_name": "Python 3 (ipykernel)",
   "language": "python",
   "name": "python3"
  },
  "language_info": {
   "codemirror_mode": {
    "name": "ipython",
    "version": 3
   },
   "file_extension": ".py",
   "mimetype": "text/x-python",
   "name": "python",
   "nbconvert_exporter": "python",
   "pygments_lexer": "ipython3",
   "version": "3.11.5"
  }
 },
 "nbformat": 4,
 "nbformat_minor": 5
}
