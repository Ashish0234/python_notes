{
 "cells": [
  {
   "cell_type": "code",
   "execution_count": 1,
   "id": "4cb7ca2e",
   "metadata": {},
   "outputs": [],
   "source": [
    "set1={\"a\",\"b\",\"c\"}"
   ]
  },
  {
   "cell_type": "code",
   "execution_count": 6,
   "id": "4acb9161",
   "metadata": {},
   "outputs": [],
   "source": [
    "set2={1,2,3,\"a\"}"
   ]
  },
  {
   "cell_type": "code",
   "execution_count": 7,
   "id": "cae49020",
   "metadata": {},
   "outputs": [],
   "source": [
    "set3=set1.union(set2)"
   ]
  },
  {
   "cell_type": "code",
   "execution_count": 8,
   "id": "a9ffba9b",
   "metadata": {},
   "outputs": [
    {
     "name": "stdout",
     "output_type": "stream",
     "text": [
      "{'b', 1, 2, 3, 'a', 'c'}\n"
     ]
    }
   ],
   "source": [
    "print(set3)"
   ]
  },
  {
   "cell_type": "code",
   "execution_count": 9,
   "id": "c4f5b249",
   "metadata": {},
   "outputs": [],
   "source": [
    "set1.update(set2)"
   ]
  },
  {
   "cell_type": "code",
   "execution_count": 10,
   "id": "caa78ac6",
   "metadata": {},
   "outputs": [
    {
     "name": "stdout",
     "output_type": "stream",
     "text": [
      "{'b', 1, 2, 3, 'a', 'c'}\n"
     ]
    }
   ],
   "source": [
    "print(set1)"
   ]
  },
  {
   "cell_type": "code",
   "execution_count": 21,
   "id": "fd323374",
   "metadata": {},
   "outputs": [],
   "source": [
    "x={\"apple\",\"banana\",\"cherry\"}"
   ]
  },
  {
   "cell_type": "code",
   "execution_count": 22,
   "id": "a93e9540",
   "metadata": {},
   "outputs": [],
   "source": [
    "y={\"google\",\"microsoft\",\"apple\"}"
   ]
  },
  {
   "cell_type": "code",
   "execution_count": 18,
   "id": "515e0137",
   "metadata": {},
   "outputs": [],
   "source": [
    "z=x.intersection(y)"
   ]
  },
  {
   "cell_type": "code",
   "execution_count": 19,
   "id": "60278ec7",
   "metadata": {},
   "outputs": [
    {
     "name": "stdout",
     "output_type": "stream",
     "text": [
      "{'apple'}\n"
     ]
    }
   ],
   "source": [
    "print(z)"
   ]
  },
  {
   "cell_type": "code",
   "execution_count": 24,
   "id": "d4a89138",
   "metadata": {},
   "outputs": [],
   "source": [
    "x.intersection_update(y)"
   ]
  },
  {
   "cell_type": "code",
   "execution_count": 25,
   "id": "a3f1ccd0",
   "metadata": {},
   "outputs": [
    {
     "name": "stdout",
     "output_type": "stream",
     "text": [
      "{'apple'}\n"
     ]
    }
   ],
   "source": [
    "print(x)"
   ]
  },
  {
   "cell_type": "code",
   "execution_count": 26,
   "id": "8f4758d4",
   "metadata": {},
   "outputs": [],
   "source": [
    "x.symmetric_difference_update(y)"
   ]
  },
  {
   "cell_type": "code",
   "execution_count": 27,
   "id": "18db5de2",
   "metadata": {},
   "outputs": [
    {
     "name": "stdout",
     "output_type": "stream",
     "text": [
      "{'google', 'microsoft'}\n"
     ]
    }
   ],
   "source": [
    "print(x)"
   ]
  },
  {
   "cell_type": "code",
   "execution_count": 28,
   "id": "0273e317",
   "metadata": {},
   "outputs": [],
   "source": [
    "z=x.symmetric_difference(y)"
   ]
  },
  {
   "cell_type": "code",
   "execution_count": 29,
   "id": "4dab0382",
   "metadata": {},
   "outputs": [
    {
     "name": "stdout",
     "output_type": "stream",
     "text": [
      "{'apple'}\n"
     ]
    }
   ],
   "source": [
    "print(z)"
   ]
  },
  {
   "cell_type": "code",
   "execution_count": 30,
   "id": "c4fd79f6",
   "metadata": {},
   "outputs": [],
   "source": [
    "nu=(1,2,3,4,5,6,7,8,9)"
   ]
  },
  {
   "cell_type": "code",
   "execution_count": 31,
   "id": "dfec4208",
   "metadata": {},
   "outputs": [],
   "source": [
    "fnum=frozenset(nu)"
   ]
  },
  {
   "cell_type": "code",
   "execution_count": 32,
   "id": "865f8968",
   "metadata": {},
   "outputs": [
    {
     "name": "stdout",
     "output_type": "stream",
     "text": [
      "frozenset object is: frozenset({1, 2, 3, 4, 5, 6, 7, 8, 9})\n"
     ]
    }
   ],
   "source": [
    "print(\"frozenset object is:\",fnum)"
   ]
  },
  {
   "cell_type": "code",
   "execution_count": 59,
   "id": "5f35345f",
   "metadata": {},
   "outputs": [
    {
     "name": "stdout",
     "output_type": "stream",
     "text": [
      "twinkle twinkle little star \n",
      "    how i wonder what you are up above \n",
      "    the also high like a diamond in the sky\n"
     ]
    }
   ],
   "source": [
    "print(\"\"\"twinkle twinkle little star \n",
    "    how i wonder what you are up above \n",
    "    the also high like a diamond in the sky\"\"\")"
   ]
  },
  {
   "cell_type": "code",
   "execution_count": 40,
   "id": "8a161d1a",
   "metadata": {},
   "outputs": [],
   "source": [
    "a=int(40)"
   ]
  },
  {
   "cell_type": "code",
   "execution_count": 41,
   "id": "bf10be86",
   "metadata": {},
   "outputs": [],
   "source": [
    "b=int(50)"
   ]
  },
  {
   "cell_type": "code",
   "execution_count": 42,
   "id": "e9925c26",
   "metadata": {},
   "outputs": [],
   "source": [
    "z=a+b"
   ]
  },
  {
   "cell_type": "code",
   "execution_count": 43,
   "id": "0cbb64a2",
   "metadata": {},
   "outputs": [
    {
     "name": "stdout",
     "output_type": "stream",
     "text": [
      "90\n"
     ]
    }
   ],
   "source": [
    "print(z)"
   ]
  },
  {
   "cell_type": "code",
   "execution_count": 66,
   "id": "a5d2c484",
   "metadata": {},
   "outputs": [],
   "source": [
    "a=int(39)"
   ]
  },
  {
   "cell_type": "code",
   "execution_count": 67,
   "id": "59a37865",
   "metadata": {},
   "outputs": [],
   "source": [
    "b=int(2)"
   ]
  },
  {
   "cell_type": "code",
   "execution_count": 68,
   "id": "ddba9d84",
   "metadata": {},
   "outputs": [],
   "source": [
    "z=a%b"
   ]
  },
  {
   "cell_type": "code",
   "execution_count": 69,
   "id": "9df27703",
   "metadata": {},
   "outputs": [
    {
     "name": "stdout",
     "output_type": "stream",
     "text": [
      "1\n"
     ]
    }
   ],
   "source": [
    "print(z)"
   ]
  },
  {
   "cell_type": "code",
   "execution_count": 1,
   "id": "0b490a80",
   "metadata": {},
   "outputs": [
    {
     "name": "stdout",
     "output_type": "stream",
     "text": [
      "enter first number20\n"
     ]
    }
   ],
   "source": [
    "a=float(input(\"enter first number\"))"
   ]
  },
  {
   "cell_type": "code",
   "execution_count": 2,
   "id": "a8cac7a8",
   "metadata": {},
   "outputs": [
    {
     "name": "stdout",
     "output_type": "stream",
     "text": [
      "enter second number30\n"
     ]
    }
   ],
   "source": [
    "b=float(input(\"enter second number\"))"
   ]
  },
  {
   "cell_type": "code",
   "execution_count": 4,
   "id": "3ea5ab41",
   "metadata": {},
   "outputs": [],
   "source": [
    "avg=(a+b)/2"
   ]
  },
  {
   "cell_type": "code",
   "execution_count": 5,
   "id": "84085979",
   "metadata": {},
   "outputs": [
    {
     "name": "stdout",
     "output_type": "stream",
     "text": [
      "25.0\n"
     ]
    }
   ],
   "source": [
    "print(avg)"
   ]
  },
  {
   "cell_type": "code",
   "execution_count": 6,
   "id": "4c3dbf99",
   "metadata": {},
   "outputs": [],
   "source": [
    "pi=22/7"
   ]
  },
  {
   "cell_type": "code",
   "execution_count": 7,
   "id": "c253b675",
   "metadata": {},
   "outputs": [],
   "source": [
    "r=7"
   ]
  },
  {
   "cell_type": "code",
   "execution_count": 8,
   "id": "25745560",
   "metadata": {},
   "outputs": [],
   "source": [
    "area=pi*r*r"
   ]
  },
  {
   "cell_type": "code",
   "execution_count": 9,
   "id": "14126f7d",
   "metadata": {},
   "outputs": [
    {
     "name": "stdout",
     "output_type": "stream",
     "text": [
      "154.0\n"
     ]
    }
   ],
   "source": [
    "print(area)"
   ]
  },
  {
   "cell_type": "code",
   "execution_count": 10,
   "id": "61d5d03d",
   "metadata": {},
   "outputs": [],
   "source": [
    "cars={\"brand\":\"BNW\",\"model\":\"2nd series\",\"year\":2004}"
   ]
  },
  {
   "cell_type": "code",
   "execution_count": 11,
   "id": "74451673",
   "metadata": {},
   "outputs": [
    {
     "name": "stdout",
     "output_type": "stream",
     "text": [
      "{'brand': 'BNW', 'model': '2nd series', 'year': 2004}\n"
     ]
    }
   ],
   "source": [
    "print(cars)"
   ]
  },
  {
   "cell_type": "code",
   "execution_count": 12,
   "id": "af827219",
   "metadata": {},
   "outputs": [],
   "source": [
    "x=cars.get(\"model\")"
   ]
  },
  {
   "cell_type": "code",
   "execution_count": 13,
   "id": "f38bd871",
   "metadata": {},
   "outputs": [
    {
     "name": "stdout",
     "output_type": "stream",
     "text": [
      "2nd series\n"
     ]
    }
   ],
   "source": [
    "print(x)"
   ]
  },
  {
   "cell_type": "code",
   "execution_count": 21,
   "id": "dbd7b47b",
   "metadata": {},
   "outputs": [],
   "source": [
    "car={\"brand\":\"ford\",\"model\":\"mustang\",\"year\":1964}"
   ]
  },
  {
   "cell_type": "code",
   "execution_count": 22,
   "id": "094146e1",
   "metadata": {},
   "outputs": [],
   "source": [
    "x=car.values()"
   ]
  },
  {
   "cell_type": "code",
   "execution_count": 23,
   "id": "caec2c9d",
   "metadata": {},
   "outputs": [
    {
     "name": "stdout",
     "output_type": "stream",
     "text": [
      "dict_values(['ford', 'mustang', 1964])\n"
     ]
    }
   ],
   "source": [
    "print(x)"
   ]
  },
  {
   "cell_type": "code",
   "execution_count": 24,
   "id": "aa22e5d6",
   "metadata": {},
   "outputs": [],
   "source": [
    "car[\"year\"]=2020"
   ]
  },
  {
   "cell_type": "code",
   "execution_count": 25,
   "id": "e7e1afee",
   "metadata": {},
   "outputs": [
    {
     "name": "stdout",
     "output_type": "stream",
     "text": [
      "dict_values(['ford', 'mustang', 2020])\n"
     ]
    }
   ],
   "source": [
    "print(x)"
   ]
  },
  {
   "cell_type": "code",
   "execution_count": 26,
   "id": "04208a18",
   "metadata": {},
   "outputs": [],
   "source": [
    "car={\"brand\":\"ford\",\"model\":\"mustang\",\"year\":1964}"
   ]
  },
  {
   "cell_type": "code",
   "execution_count": 27,
   "id": "8606e909",
   "metadata": {},
   "outputs": [],
   "source": [
    "x=car.values()"
   ]
  },
  {
   "cell_type": "code",
   "execution_count": 28,
   "id": "ad61c089",
   "metadata": {},
   "outputs": [
    {
     "name": "stdout",
     "output_type": "stream",
     "text": [
      "dict_values(['ford', 'mustang', 1964])\n"
     ]
    }
   ],
   "source": [
    "print(x)"
   ]
  },
  {
   "cell_type": "code",
   "execution_count": 29,
   "id": "464d36d9",
   "metadata": {},
   "outputs": [],
   "source": [
    "car[\"color\"]=\"red\""
   ]
  },
  {
   "cell_type": "code",
   "execution_count": 30,
   "id": "b144f3c6",
   "metadata": {},
   "outputs": [
    {
     "name": "stdout",
     "output_type": "stream",
     "text": [
      "dict_values(['ford', 'mustang', 1964, 'red'])\n"
     ]
    }
   ],
   "source": [
    "print(x)"
   ]
  },
  {
   "cell_type": "code",
   "execution_count": 31,
   "id": "63988e78",
   "metadata": {},
   "outputs": [],
   "source": [
    "x=cars.items()"
   ]
  },
  {
   "cell_type": "code",
   "execution_count": 32,
   "id": "ae2abc3c",
   "metadata": {},
   "outputs": [
    {
     "name": "stdout",
     "output_type": "stream",
     "text": [
      "\n"
     ]
    }
   ],
   "source": [
    "print()"
   ]
  },
  {
   "cell_type": "code",
   "execution_count": 45,
   "id": "d3adc2f3",
   "metadata": {},
   "outputs": [],
   "source": [
    "car={\"brand\":\"ford\",\"model\":\"mustang\",\"year\":1964}"
   ]
  },
  {
   "cell_type": "code",
   "execution_count": 46,
   "id": "4d68a3e1",
   "metadata": {},
   "outputs": [],
   "source": [
    "car[\"year\"]=2020"
   ]
  },
  {
   "cell_type": "code",
   "execution_count": 47,
   "id": "4a2e3387",
   "metadata": {},
   "outputs": [
    {
     "name": "stdout",
     "output_type": "stream",
     "text": [
      "{'brand': 'ford', 'model': 'mustang', 'year': 2020}\n"
     ]
    }
   ],
   "source": [
    "print(car)"
   ]
  },
  {
   "cell_type": "code",
   "execution_count": 48,
   "id": "1942c4aa",
   "metadata": {},
   "outputs": [],
   "source": [
    "car.update({\"year\":2020})"
   ]
  },
  {
   "cell_type": "code",
   "execution_count": 49,
   "id": "3999a63a",
   "metadata": {},
   "outputs": [
    {
     "data": {
      "text/plain": [
       "2020"
      ]
     },
     "execution_count": 49,
     "metadata": {},
     "output_type": "execute_result"
    }
   ],
   "source": [
    "car.pop('year')"
   ]
  },
  {
   "cell_type": "code",
   "execution_count": 51,
   "id": "dd5dba88",
   "metadata": {},
   "outputs": [],
   "source": [
    "del car[\"model\"]"
   ]
  },
  {
   "cell_type": "code",
   "execution_count": 52,
   "id": "e3ef2c2f",
   "metadata": {},
   "outputs": [
    {
     "name": "stdout",
     "output_type": "stream",
     "text": [
      "{'brand': 'ford'}\n"
     ]
    }
   ],
   "source": [
    "print(car)"
   ]
  },
  {
   "cell_type": "code",
   "execution_count": 53,
   "id": "fd488faf",
   "metadata": {},
   "outputs": [],
   "source": [
    "car.clear()"
   ]
  },
  {
   "cell_type": "code",
   "execution_count": 54,
   "id": "249494fe",
   "metadata": {},
   "outputs": [
    {
     "name": "stdout",
     "output_type": "stream",
     "text": [
      "{}\n"
     ]
    }
   ],
   "source": [
    "print(car)"
   ]
  },
  {
   "cell_type": "code",
   "execution_count": 55,
   "id": "147fd186",
   "metadata": {},
   "outputs": [],
   "source": [
    "thisdict={\"brand\":\"ford\",\"model\":\"mustang\",\"year\":1964}"
   ]
  },
  {
   "cell_type": "code",
   "execution_count": 56,
   "id": "89a6af05",
   "metadata": {},
   "outputs": [],
   "source": [
    "mydict=thisdict.copy()"
   ]
  },
  {
   "cell_type": "code",
   "execution_count": 57,
   "id": "51c89d19",
   "metadata": {},
   "outputs": [
    {
     "name": "stdout",
     "output_type": "stream",
     "text": [
      "{'brand': 'ford', 'model': 'mustang', 'year': 1964}\n"
     ]
    }
   ],
   "source": [
    "print(mydict)"
   ]
  },
  {
   "cell_type": "code",
   "execution_count": 58,
   "id": "c01e54d6",
   "metadata": {},
   "outputs": [],
   "source": [
    "mydict=dict(thisdict)"
   ]
  },
  {
   "cell_type": "code",
   "execution_count": 59,
   "id": "f429bb8a",
   "metadata": {},
   "outputs": [
    {
     "name": "stdout",
     "output_type": "stream",
     "text": [
      "{'brand': 'ford', 'model': 'mustang', 'year': 1964}\n"
     ]
    }
   ],
   "source": [
    "print(mydict)"
   ]
  },
  {
   "cell_type": "code",
   "execution_count": 60,
   "id": "668daf7d",
   "metadata": {},
   "outputs": [],
   "source": [
    "friends={\"child1\":{\"name\":\"arun\",\"year\":2000},\"child2\":{\"name\":\"vignesh\",\"year\":2001},\"child3\":{\"name\":\"arya\",\"year\":2018}}"
   ]
  },
  {
   "cell_type": "code",
   "execution_count": 61,
   "id": "99f74e41",
   "metadata": {},
   "outputs": [
    {
     "name": "stdout",
     "output_type": "stream",
     "text": [
      "{'child1': {'name': 'arun', 'year': 2000}, 'child2': {'name': 'vignesh', 'year': 2001}, 'child3': {'name': 'arya', 'year': 2018}}\n"
     ]
    }
   ],
   "source": [
    "print(friends)"
   ]
  },
  {
   "cell_type": "code",
   "execution_count": 1,
   "id": "8dcfc0a6",
   "metadata": {},
   "outputs": [],
   "source": [
    "child1={\"name\":\"arun\",\"year\":2000}\n",
    "child2={\"name\":\"vignesh\",\"year\":2001}\n",
    "child3={\"name\":\"arya\",\"year\":2018}"
   ]
  },
  {
   "cell_type": "code",
   "execution_count": 2,
   "id": "2614d39c",
   "metadata": {},
   "outputs": [],
   "source": [
    "friends={\"child1\":child1,\"child2\":child2,\"child3\":child3}"
   ]
  },
  {
   "cell_type": "code",
   "execution_count": 3,
   "id": "7668651e",
   "metadata": {},
   "outputs": [
    {
     "name": "stdout",
     "output_type": "stream",
     "text": [
      "{'child1': {'name': 'arun', 'year': 2000}, 'child2': {'name': 'vignesh', 'year': 2001}, 'child3': {'name': 'arya', 'year': 2018}}\n"
     ]
    }
   ],
   "source": [
    "print(friends)"
   ]
  },
  {
   "cell_type": "code",
   "execution_count": 10,
   "id": "c7396338",
   "metadata": {},
   "outputs": [],
   "source": [
    "a=33\n",
    "b=200\n"
   ]
  },
  {
   "cell_type": "code",
   "execution_count": 11,
   "id": "f8d60f10",
   "metadata": {},
   "outputs": [
    {
     "name": "stdout",
     "output_type": "stream",
     "text": [
      "b is greater than a\n"
     ]
    }
   ],
   "source": [
    "if b>a:print(\"b is greater than a\")"
   ]
  },
  {
   "cell_type": "code",
   "execution_count": 16,
   "id": "98b3f6f1",
   "metadata": {},
   "outputs": [
    {
     "name": "stdout",
     "output_type": "stream",
     "text": [
      "b is greater than a\n"
     ]
    }
   ],
   "source": [
    "if b>a:\n",
    "    print(\"b is greater than a\")\n",
    "elif a==b:\n",
    "    print(\"a and b are equal\")"
   ]
  },
  {
   "cell_type": "code",
   "execution_count": 17,
   "id": "3a5f93fe",
   "metadata": {},
   "outputs": [
    {
     "name": "stdout",
     "output_type": "stream",
     "text": [
      "b is greater than a\n"
     ]
    }
   ],
   "source": [
    "if b>a:\n",
    "    print(\"b is greater than a\")\n",
    "elif a==b:\n",
    "    print(\"a and b are equal\")\n",
    "else:\n",
    "    print(\"a is greater than b\")"
   ]
  },
  {
   "cell_type": "code",
   "execution_count": 18,
   "id": "fe8d2830",
   "metadata": {},
   "outputs": [
    {
     "name": "stdout",
     "output_type": "stream",
     "text": [
      "b\n"
     ]
    }
   ],
   "source": [
    "a=2\n",
    "b=330\n",
    "print(\"a\")if a>b else print(\"b\")"
   ]
  },
  {
   "cell_type": "code",
   "execution_count": 19,
   "id": "aeffe28f",
   "metadata": {},
   "outputs": [
    {
     "name": "stdout",
     "output_type": "stream",
     "text": [
      "=\n"
     ]
    }
   ],
   "source": [
    "a=330\n",
    "b=330\n",
    "print(\"a\")if a>b else print(\"=\")if a==b else print(\"b\")"
   ]
  },
  {
   "cell_type": "code",
   "execution_count": 20,
   "id": "7d297eb5",
   "metadata": {},
   "outputs": [
    {
     "name": "stdout",
     "output_type": "stream",
     "text": [
      "both conditions are true\n"
     ]
    }
   ],
   "source": [
    "a=200\n",
    "b=33\n",
    "c=500\n",
    "if a>b and c>a:\n",
    "    print(\"both conditions are true\")"
   ]
  },
  {
   "cell_type": "code",
   "execution_count": 21,
   "id": "a25f4bac",
   "metadata": {},
   "outputs": [
    {
     "name": "stdout",
     "output_type": "stream",
     "text": [
      "at least one of the conditions is true\n"
     ]
    }
   ],
   "source": [
    "a=200\n",
    "b=33\n",
    "c=500\n",
    "if a>b or a>c:\n",
    "    print(\"at least one of the conditions is true\")"
   ]
  },
  {
   "cell_type": "code",
   "execution_count": 28,
   "id": "66028b44",
   "metadata": {},
   "outputs": [
    {
     "name": "stdout",
     "output_type": "stream",
     "text": [
      "but not above 20.\n"
     ]
    }
   ],
   "source": [
    "x=9\n",
    "if x>10:\n",
    "    print(\"above ten,\")\n",
    "    if x>20:\n",
    "        print(\"and also above 20!\")\n",
    "else:\n",
    "    print(\"but not above 20.\")\n"
   ]
  },
  {
   "cell_type": "code",
   "execution_count": 26,
   "id": "b7d8eee1",
   "metadata": {},
   "outputs": [],
   "source": [
    "a=33\n",
    "b==200\n",
    "if b>a:\n",
    "    pass"
   ]
  },
  {
   "cell_type": "code",
   "execution_count": 32,
   "id": "7d34df52",
   "metadata": {},
   "outputs": [
    {
     "name": "stdout",
     "output_type": "stream",
     "text": [
      "eligible for vote or not\n"
     ]
    }
   ],
   "source": [
    "x=28\n",
    "if x>=18:\n",
    "    print(\"eligible for vote or not\")\n",
    "else:\n",
    "    print(\"not eligible for vote\")\n"
   ]
  },
  {
   "cell_type": "code",
   "execution_count": 33,
   "id": "b86a34f5",
   "metadata": {},
   "outputs": [
    {
     "name": "stdout",
     "output_type": "stream",
     "text": [
      "even\n"
     ]
    }
   ],
   "source": [
    "if x%2==0:\n",
    "    print(\"even\")\n",
    "else:\n",
    "    print(\"odd\")"
   ]
  },
  {
   "cell_type": "code",
   "execution_count": null,
   "id": "c9a1e71c",
   "metadata": {},
   "outputs": [],
   "source": []
  }
 ],
 "metadata": {
  "kernelspec": {
   "display_name": "Python 3 (ipykernel)",
   "language": "python",
   "name": "python3"
  },
  "language_info": {
   "codemirror_mode": {
    "name": "ipython",
    "version": 3
   },
   "file_extension": ".py",
   "mimetype": "text/x-python",
   "name": "python",
   "nbconvert_exporter": "python",
   "pygments_lexer": "ipython3",
   "version": "3.11.5"
  }
 },
 "nbformat": 4,
 "nbformat_minor": 5
}
