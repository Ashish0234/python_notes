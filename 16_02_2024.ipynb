{
 "cells": [
  {
   "cell_type": "code",
   "execution_count": 1,
   "id": "61052843",
   "metadata": {},
   "outputs": [],
   "source": [
    "a=[1,2,3,4]\n",
    "\n"
   ]
  },
  {
   "cell_type": "code",
   "execution_count": 2,
   "id": "429c5054",
   "metadata": {},
   "outputs": [
    {
     "name": "stdout",
     "output_type": "stream",
     "text": [
      "4\n"
     ]
    }
   ],
   "source": [
    "print(a.pop())"
   ]
  },
  {
   "cell_type": "code",
   "execution_count": 3,
   "id": "43eeb1a7",
   "metadata": {},
   "outputs": [
    {
     "name": "stdout",
     "output_type": "stream",
     "text": [
      "3\n"
     ]
    }
   ],
   "source": [
    "print(a.pop())"
   ]
  },
  {
   "cell_type": "code",
   "execution_count": 4,
   "id": "ad58cb5b",
   "metadata": {},
   "outputs": [
    {
     "name": "stdout",
     "output_type": "stream",
     "text": [
      "2\n"
     ]
    }
   ],
   "source": [
    "print(a.pop())"
   ]
  },
  {
   "cell_type": "code",
   "execution_count": 5,
   "id": "4f189c28",
   "metadata": {},
   "outputs": [
    {
     "name": "stdout",
     "output_type": "stream",
     "text": [
      "1\n"
     ]
    }
   ],
   "source": [
    "print(a.pop())"
   ]
  },
  {
   "cell_type": "code",
   "execution_count": 6,
   "id": "ba5eeddb",
   "metadata": {},
   "outputs": [
    {
     "name": "stdout",
     "output_type": "stream",
     "text": [
      "4\n",
      "3\n",
      "2\n",
      "1\n"
     ]
    }
   ],
   "source": [
    "a=[1,2,3,4]\n",
    "while a:\n",
    "    print(a.pop())"
   ]
  },
  {
   "cell_type": "code",
   "execution_count": 13,
   "id": "57dabb3e",
   "metadata": {},
   "outputs": [
    {
     "name": "stdout",
     "output_type": "stream",
     "text": [
      "1\n",
      "2\n",
      "3\n",
      "4\n"
     ]
    }
   ],
   "source": [
    "i=0\n",
    "while i<4:\n",
    "  i+=1\n",
    "  print(i)\n",
    "  continue"
   ]
  },
  {
   "cell_type": "code",
   "execution_count": 15,
   "id": "657fd949",
   "metadata": {},
   "outputs": [
    {
     "name": "stdout",
     "output_type": "stream",
     "text": [
      "1\n"
     ]
    }
   ],
   "source": [
    "i=0\n",
    "while i<4:\n",
    "     i+=1\n",
    "     print(i)\n",
    "     break"
   ]
  },
  {
   "cell_type": "code",
   "execution_count": 16,
   "id": "d3b159b9",
   "metadata": {},
   "outputs": [
    {
     "name": "stdout",
     "output_type": "stream",
     "text": [
      "value of i : 14\n"
     ]
    }
   ],
   "source": [
    "a='loop in python'\n",
    "i=0\n",
    "while i<len(a):\n",
    "    i+=1\n",
    "    pass\n",
    "print('value of i :',i)"
   ]
  },
  {
   "cell_type": "code",
   "execution_count": 17,
   "id": "f0d5bd2b",
   "metadata": {},
   "outputs": [
    {
     "data": {
      "text/plain": [
       "14"
      ]
     },
     "execution_count": 17,
     "metadata": {},
     "output_type": "execute_result"
    }
   ],
   "source": [
    "len(a)"
   ]
  },
  {
   "cell_type": "code",
   "execution_count": 19,
   "id": "f9771c59",
   "metadata": {},
   "outputs": [
    {
     "name": "stdout",
     "output_type": "stream",
     "text": [
      "current letter : l\n",
      "current letter : o\n",
      "current letter : o\n",
      "current letter :  \n",
      "current letter : i\n",
      "current letter : n\n",
      "current letter :  \n",
      "current letter : y\n",
      "current letter : t\n",
      "current letter : h\n",
      "current letter : o\n",
      "current letter : n\n"
     ]
    }
   ],
   "source": [
    "i=0\n",
    "a='loops in python'\n",
    "while i<len(a):\n",
    "    if a[i]=='p' or a[i]=='s':\n",
    "        i+=1\n",
    "        continue\n",
    "    print('current letter :',a[i])\n",
    "    i+=1"
   ]
  },
  {
   "cell_type": "code",
   "execution_count": 20,
   "id": "902a4f8f",
   "metadata": {},
   "outputs": [
    {
     "name": "stdout",
     "output_type": "stream",
     "text": [
      "current letter: l\n",
      "current letter: o\n",
      "current letter: o\n"
     ]
    }
   ],
   "source": [
    "i=0\n",
    "a='loops in python'\n",
    "while i<len(a):\n",
    "    if a[i]=='p' or a[i]=='h':\n",
    "        i+=1\n",
    "        break\n",
    "    print('current letter:',a[i])\n",
    "    i+=1"
   ]
  },
  {
   "cell_type": "code",
   "execution_count": 23,
   "id": "23e11d0e",
   "metadata": {},
   "outputs": [
    {
     "name": "stdout",
     "output_type": "stream",
     "text": [
      "1\n",
      "2\n",
      "3\n",
      "4\n",
      "no break\n",
      "\n"
     ]
    }
   ],
   "source": [
    "i=0\n",
    "while i<4:\n",
    "    i+=1\n",
    "    print(i)\n",
    "else:#executed because no break in for\n",
    "    print(\"no break\\n\")"
   ]
  },
  {
   "cell_type": "code",
   "execution_count": 24,
   "id": "88ed1f57",
   "metadata": {},
   "outputs": [
    {
     "name": "stdout",
     "output_type": "stream",
     "text": [
      "1\n"
     ]
    }
   ],
   "source": [
    "i=0\n",
    "while i<4:\n",
    "    i+=1\n",
    "    print(i)\n",
    "    break\n",
    "else:##not executed as there is a break\n",
    "    print(\"no break\")"
   ]
  },
  {
   "cell_type": "code",
   "execution_count": 25,
   "id": "e998a17f",
   "metadata": {},
   "outputs": [
    {
     "name": "stdout",
     "output_type": "stream",
     "text": [
      "list iteration\n",
      "hello\n",
      "for\n",
      "python\n"
     ]
    }
   ],
   "source": [
    "#iterating  over a list\n",
    "print(\"list iteration\")\n",
    "i=[\"hello\",\"for\",\"python\"]\n",
    "for i in i:\n",
    "    print(i)"
   ]
  },
  {
   "cell_type": "code",
   "execution_count": 26,
   "id": "1ec7af4d",
   "metadata": {},
   "outputs": [
    {
     "name": "stdout",
     "output_type": "stream",
     "text": [
      "\n",
      "tuple iteration\n",
      "hello\n",
      "for\n",
      "python\n"
     ]
    }
   ],
   "source": [
    "#iterating over a tuple(immutable)\n",
    "print(\"\\ntuple iteration\")\n",
    "t=(\"hello\",\"for\",\"python\")\n",
    "for i in t:\n",
    "    print(i)"
   ]
  },
  {
   "cell_type": "code",
   "execution_count": 28,
   "id": "e6e1265a",
   "metadata": {},
   "outputs": [
    {
     "name": "stdout",
     "output_type": "stream",
     "text": [
      "\n",
      "dictionary iteration\n",
      "123\n",
      "345\n"
     ]
    }
   ],
   "source": [
    "#iterating over dictionary\n",
    "print(\"\\ndictionary iteration\")\n",
    "d=dict()\n",
    "d['xyz']=123\n",
    "d['abc']=345\n",
    "for i in d:\n",
    "    print(d[i])"
   ]
  },
  {
   "cell_type": "code",
   "execution_count": 29,
   "id": "05810bbf",
   "metadata": {},
   "outputs": [
    {
     "name": "stdout",
     "output_type": "stream",
     "text": [
      "{'xyz': 123, 'abc': 345}\n"
     ]
    }
   ],
   "source": [
    "print(d)"
   ]
  },
  {
   "cell_type": "code",
   "execution_count": 33,
   "id": "3bfc70fd",
   "metadata": {},
   "outputs": [
    {
     "name": "stdout",
     "output_type": "stream",
     "text": [
      "current letter: p\n",
      "current letter: y\n",
      "current letter: t\n",
      "current letter: h\n",
      "current letter: n\n",
      "current letter:  \n",
      "current letter: d\n",
      "current letter: v\n",
      "current letter: l\n",
      "current letter: p\n",
      "current letter: r\n"
     ]
    }
   ],
   "source": [
    "for x in \"python developer\":\n",
    "    if x=='e' or x==\"o\":\n",
    "        continue\n",
    "    print('current letter:',x)"
   ]
  },
  {
   "cell_type": "code",
   "execution_count": 34,
   "id": "05bb34e0",
   "metadata": {},
   "outputs": [
    {
     "name": "stdout",
     "output_type": "stream",
     "text": [
      "current letter: o\n"
     ]
    }
   ],
   "source": [
    "for x in 'python developer':\n",
    "    #break the loop as soon it sees 'e' or 'o'\n",
    "    if x=='o' or x=='e':\n",
    "        break\n",
    "print('current letter:',x)"
   ]
  },
  {
   "cell_type": "code",
   "execution_count": 39,
   "id": "b6cc51f3",
   "metadata": {},
   "outputs": [
    {
     "name": "stdout",
     "output_type": "stream",
     "text": [
      "0 1 2 3 4 5 6 7 8 9 \n"
     ]
    }
   ],
   "source": [
    "#show range() basics\n",
    " #printing a number\n",
    "for i in range(10):\n",
    "    print(i,end=\" \")\n",
    "print()"
   ]
  },
  {
   "cell_type": "code",
   "execution_count": 40,
   "id": "eed6e05e",
   "metadata": {},
   "outputs": [
    {
     "name": "stdout",
     "output_type": "stream",
     "text": [
      "10 20 30 40 \n"
     ]
    }
   ],
   "source": [
    "#using range for iteration\n",
    "I=[10,20,30,40]\n",
    "for i in range(len(I)):\n",
    "    print(I[i],end=\" \")\n",
    "print()"
   ]
  },
  {
   "cell_type": "code",
   "execution_count": 44,
   "id": "b1f436ad",
   "metadata": {},
   "outputs": [
    {
     "name": "stdout",
     "output_type": "stream",
     "text": [
      "sum of first 10 natural: 1\n",
      "sum of first 10 natural: 3\n",
      "sum of first 10 natural: 6\n",
      "sum of first 10 natural: 10\n",
      "sum of first 10 natural: 15\n",
      "sum of first 10 natural: 21\n",
      "sum of first 10 natural: 28\n",
      "sum of first 10 natural: 36\n",
      "sum of first 10 natural: 45\n",
      "sum of first 10 natural: 55\n"
     ]
    }
   ],
   "source": [
    "#performing sum of natural\n",
    "#number\n",
    "sum=0\n",
    "for i in range(1,11):\n",
    "    sum=sum+i\n",
    "    print(\"sum of first 10 natural:\",sum)\n"
   ]
  },
  {
   "cell_type": "code",
   "execution_count": 45,
   "id": "60a33a3e",
   "metadata": {},
   "outputs": [
    {
     "name": "stdout",
     "output_type": "stream",
     "text": [
      "1\n",
      "2\n",
      "3\n",
      "no break\n",
      "\n"
     ]
    }
   ],
   "source": [
    "for i in range(1,4):\n",
    "    print(i)\n",
    "else:#executed because no  break in for \n",
    "    print(\"no break\\n\")"
   ]
  },
  {
   "cell_type": "code",
   "execution_count": 46,
   "id": "d2a13872",
   "metadata": {},
   "outputs": [
    {
     "name": "stdout",
     "output_type": "stream",
     "text": [
      "1\n"
     ]
    }
   ],
   "source": [
    "for i in range(1,4):\n",
    "    print(i)\n",
    "    break\n",
    "else:#not executed as there is a break\n",
    "    print(\"no break\")"
   ]
  },
  {
   "cell_type": "code",
   "execution_count": 47,
   "id": "f85ad957",
   "metadata": {},
   "outputs": [
    {
     "name": "stdout",
     "output_type": "stream",
     "text": [
      "red apple\n",
      "red banana\n",
      "red cherry\n",
      "big apple\n",
      "big banana\n",
      "big cherry\n",
      "tasty apple\n",
      "tasty banana\n",
      "tasty cherry\n"
     ]
    }
   ],
   "source": [
    "adj=[\"red\",\"big\",\"tasty\"]\n",
    "fruits=[\"apple\",\"banana\",\"cherry\"]\n",
    "for x in adj:\n",
    "    for y in fruits:\n",
    "        print(x,y)"
   ]
  },
  {
   "cell_type": "code",
   "execution_count": 49,
   "id": "245ffbdd",
   "metadata": {},
   "outputs": [],
   "source": [
    "def hello():\n",
    "    print(\"welcome to ipcs\")"
   ]
  },
  {
   "cell_type": "code",
   "execution_count": 50,
   "id": "24825389",
   "metadata": {},
   "outputs": [
    {
     "name": "stdout",
     "output_type": "stream",
     "text": [
      "welcome to ipcs\n"
     ]
    }
   ],
   "source": [
    "hello()"
   ]
  },
  {
   "cell_type": "code",
   "execution_count": 53,
   "id": "abecc1f1",
   "metadata": {},
   "outputs": [],
   "source": [
    "def hello():\n",
    "        print(\"welcome to ipcs\")\n",
    "    #driver code to call a function\n",
    "    "
   ]
  },
  {
   "cell_type": "code",
   "execution_count": 54,
   "id": "14097fa9",
   "metadata": {},
   "outputs": [
    {
     "name": "stdout",
     "output_type": "stream",
     "text": [
      "welcome to ipcs\n"
     ]
    }
   ],
   "source": [
    "hello()"
   ]
  },
  {
   "cell_type": "code",
   "execution_count": 60,
   "id": "13246fa1",
   "metadata": {},
   "outputs": [],
   "source": [
    "#a simple python function to check\n",
    "#whether x is even or odd\n",
    "def evenOrodd(x):\n",
    "    if (x%2==0):\n",
    "        print(\"even\")\n",
    "    else:\n",
    "        print(\"odd\")\n",
    "    #driver code to call the function\n",
    "    "
   ]
  },
  {
   "cell_type": "code",
   "execution_count": 61,
   "id": "eab8e307",
   "metadata": {},
   "outputs": [
    {
     "name": "stdout",
     "output_type": "stream",
     "text": [
      "even\n"
     ]
    }
   ],
   "source": [
    "evenOrodd(6)"
   ]
  },
  {
   "cell_type": "code",
   "execution_count": 63,
   "id": "30394988",
   "metadata": {},
   "outputs": [
    {
     "name": "stdout",
     "output_type": "stream",
     "text": [
      "odd\n"
     ]
    }
   ],
   "source": [
    "evenOrodd(7)"
   ]
  },
  {
   "cell_type": "code",
   "execution_count": null,
   "id": "1ed5547b",
   "metadata": {},
   "outputs": [],
   "source": []
  }
 ],
 "metadata": {
  "kernelspec": {
   "display_name": "Python 3 (ipykernel)",
   "language": "python",
   "name": "python3"
  },
  "language_info": {
   "codemirror_mode": {
    "name": "ipython",
    "version": 3
   },
   "file_extension": ".py",
   "mimetype": "text/x-python",
   "name": "python",
   "nbconvert_exporter": "python",
   "pygments_lexer": "ipython3",
   "version": "3.11.5"
  }
 },
 "nbformat": 4,
 "nbformat_minor": 5
}
